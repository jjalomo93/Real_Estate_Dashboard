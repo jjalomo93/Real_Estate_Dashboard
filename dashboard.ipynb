{
 "cells": [
  {
   "cell_type": "code",
   "execution_count": 35,
   "id": "49d3211e-a74b-4171-b579-5b7397153495",
   "metadata": {},
   "outputs": [],
   "source": [
    "# imports\n",
    "import panel as pn\n",
    "pn.extension('plotly')\n",
    "import plotly.express as px\n",
    "import pandas as pd\n",
    "import hvplot.pandas\n",
    "import matplotlib.pyplot as plt\n",
    "import numpy as np\n",
    "import os\n",
    "import seaborn as sns\n",
    "from pathlib import Path\n",
    "from dotenv import load_dotenv\n",
    "from panel.interact import interact"
   ]
  },
  {
   "cell_type": "markdown",
   "id": "07ed0640-3015-441a-9bb4-73de0bccad7a",
   "metadata": {},
   "source": [
    "# Import Data"
   ]
  },
  {
   "cell_type": "code",
   "execution_count": 4,
   "id": "668364d9-89a0-49ca-9a53-6970a17963e9",
   "metadata": {},
   "outputs": [
    {
     "data": {
      "text/html": [
       "<div>\n",
       "<style scoped>\n",
       "    .dataframe tbody tr th:only-of-type {\n",
       "        vertical-align: middle;\n",
       "    }\n",
       "\n",
       "    .dataframe tbody tr th {\n",
       "        vertical-align: top;\n",
       "    }\n",
       "\n",
       "    .dataframe thead th {\n",
       "        text-align: right;\n",
       "    }\n",
       "</style>\n",
       "<table border=\"1\" class=\"dataframe\">\n",
       "  <thead>\n",
       "    <tr style=\"text-align: right;\">\n",
       "      <th></th>\n",
       "      <th>MSA</th>\n",
       "      <th>Population</th>\n",
       "      <th>Personal Income</th>\n",
       "      <th>Number Jobs</th>\n",
       "      <th>HPI</th>\n",
       "      <th>Date</th>\n",
       "    </tr>\n",
       "  </thead>\n",
       "  <tbody>\n",
       "    <tr>\n",
       "      <th>0</th>\n",
       "      <td>Baltimore-Columbia-Towson, MD</td>\n",
       "      <td>2557958</td>\n",
       "      <td>88618199</td>\n",
       "      <td>1543762</td>\n",
       "      <td>97.520000</td>\n",
       "      <td>2000-01-01</td>\n",
       "    </tr>\n",
       "    <tr>\n",
       "      <th>1</th>\n",
       "      <td>Baltimore-Columbia-Towson, MD</td>\n",
       "      <td>2575471</td>\n",
       "      <td>92560218</td>\n",
       "      <td>1547690</td>\n",
       "      <td>105.058333</td>\n",
       "      <td>2001-01-01</td>\n",
       "    </tr>\n",
       "    <tr>\n",
       "      <th>2</th>\n",
       "      <td>Baltimore-Columbia-Towson, MD</td>\n",
       "      <td>2596501</td>\n",
       "      <td>96206347</td>\n",
       "      <td>1558796</td>\n",
       "      <td>116.961667</td>\n",
       "      <td>2002-01-01</td>\n",
       "    </tr>\n",
       "    <tr>\n",
       "      <th>3</th>\n",
       "      <td>Baltimore-Columbia-Towson, MD</td>\n",
       "      <td>2614232</td>\n",
       "      <td>100100963</td>\n",
       "      <td>1566963</td>\n",
       "      <td>134.725833</td>\n",
       "      <td>2003-01-01</td>\n",
       "    </tr>\n",
       "    <tr>\n",
       "      <th>4</th>\n",
       "      <td>Baltimore-Columbia-Towson, MD</td>\n",
       "      <td>2630946</td>\n",
       "      <td>106048601</td>\n",
       "      <td>1593882</td>\n",
       "      <td>158.941667</td>\n",
       "      <td>2004-01-01</td>\n",
       "    </tr>\n",
       "  </tbody>\n",
       "</table>\n",
       "</div>"
      ],
      "text/plain": [
       "                             MSA  Population  Personal Income  Number Jobs  \\\n",
       "0  Baltimore-Columbia-Towson, MD     2557958         88618199      1543762   \n",
       "1  Baltimore-Columbia-Towson, MD     2575471         92560218      1547690   \n",
       "2  Baltimore-Columbia-Towson, MD     2596501         96206347      1558796   \n",
       "3  Baltimore-Columbia-Towson, MD     2614232        100100963      1566963   \n",
       "4  Baltimore-Columbia-Towson, MD     2630946        106048601      1593882   \n",
       "\n",
       "          HPI       Date  \n",
       "0   97.520000 2000-01-01  \n",
       "1  105.058333 2001-01-01  \n",
       "2  116.961667 2002-01-01  \n",
       "3  134.725833 2003-01-01  \n",
       "4  158.941667 2004-01-01  "
      ]
     },
     "execution_count": 4,
     "metadata": {},
     "output_type": "execute_result"
    }
   ],
   "source": [
    "# import total cleaned data\n",
    "data_path = Path(\"clean_data/all_msa_clean_data.csv\")\n",
    "data = pd.read_csv(data_path)\n",
    "data.drop(columns=[\"Unnamed: 0\",\"GeoFips\"],inplace=True)\n",
    "data[\"Date\"] = pd.to_datetime(data[\"Year\"],format=\"%Y\")\n",
    "data.drop(columns=[\"Year\"],inplace=True)\n",
    "data.head()"
   ]
  },
  {
   "cell_type": "code",
   "execution_count": 46,
   "id": "0055ddf8-7c27-4871-b2e3-ef9e356c98b0",
   "metadata": {},
   "outputs": [
    {
     "data": {
      "image/png": "[encoded data removed]",
      "text/plain": [
       "<Figure size 720x504 with 2 Axes>"
      ]
     },
     "metadata": {
      "needs_background": "light"
     },
     "output_type": "display_data"
    }
   ],
   "source": [
    "# create heatmap and save image\n",
    "total = data.set_index(\"Date\").sum(level=\"Date\")\n",
    "plt.figure(figsize=(10,7))\n",
    "heatmap = sns.heatmap(total.corr(),vmin=-1,vmax=1,annot=True)\n",
    "heatmap.figure.savefig(\"images/heatmap.png\")"
   ]
  },
  {
   "cell_type": "markdown",
   "id": "2e76cf9e-8125-4e05-af0b-4c132e9a3b74",
   "metadata": {},
   "source": [
    "# Create Visualizations\n",
    "Creating functions to input into the final dashboard"
   ]
  },
  {
   "cell_type": "code",
   "execution_count": null,
   "id": "86410f26-f60d-4442-933c-8337d6b60b39",
   "metadata": {},
   "outputs": [],
   "source": [
    "# Define Panel Visualization Functions - Overview"
   ]
  },
  {
   "cell_type": "code",
   "execution_count": null,
   "id": "5429fd94-bdf1-4603-b9f6-9ba680da05c1",
   "metadata": {},
   "outputs": [],
   "source": [
    "# Define Panel Visualization Functions - Historical"
   ]
  },
  {
   "cell_type": "code",
   "execution_count": 49,
   "id": "ecbab685-90b5-4ec7-8153-5e0105ec01e2",
   "metadata": {
    "tags": []
   },
   "outputs": [],
   "source": [
    "# Define Panel Visualization Functions - Correlations\n",
    "\n",
    "def total_correlation():\n",
    "    \"\"\"Total Correlation between Variables\"\"\"\n",
    "    \n",
    "    heatmap = pn.panel(\"images/heatmap.png\")\n",
    "\n",
    "    \n",
    "    return heatmap\n",
    "\n",
    "def hpi_vs_population():\n",
    "    \"\"\"Correlation between HPI and Population - grouped by MSA\"\"\"\n",
    "    \n",
    "    population = data[[\"Date\",\"MSA\",\"Population\",\"HPI\"]]\n",
    "    plot = population.hvplot.scatter(x=\"HPI\",y=\"Population\",groupby=\"MSA\", title=\"Correlation between HPI and Population\", width=1000, height=400)\n",
    "    \n",
    "    return plot\n",
    "\n",
    "def hpi_vs_income():\n",
    "    \"\"\"Correlation between HPI and Personal Income - grouped by MSA\"\"\"\n",
    "    \n",
    "    income = data[[\"Date\",\"MSA\",\"Personal Income\",\"HPI\"]]\n",
    "    plot = income.hvplot.scatter(x=\"HPI\",y=\"Personal Income\",groupby=\"MSA\", title=\"Correlation between HPI and Personal Income\", width=1000, height=400)\n",
    "    \n",
    "    return plot\n",
    "\n",
    "def hpi_vs_employment():\n",
    "    \"\"\"Correlation between HPI and Employment - grouped by MSA\"\"\"\n",
    "    \n",
    "    employment = data[[\"Date\",\"MSA\",\"Number Jobs\",\"HPI\"]]\n",
    "    plot = employment.hvplot.scatter(x=\"HPI\",y=\"Number Jobs\",groupby=\"MSA\", title=\"Correlation between HPI and Employment\", width=1000, height=400)\n",
    "    \n",
    "    return plot"
   ]
  },
  {
   "cell_type": "code",
   "execution_count": null,
   "id": "381d051c-8d18-44c3-99ff-ce30125f5ea3",
   "metadata": {},
   "outputs": [],
   "source": [
    "# Define Panel Visualization Functions - Forecasts"
   ]
  },
  {
   "cell_type": "code",
   "execution_count": null,
   "id": "3441eadf-013f-4851-ac23-9e9767af8674",
   "metadata": {},
   "outputs": [],
   "source": [
    "# Define Panel Visualization Functions - Conclusion"
   ]
  },
  {
   "cell_type": "markdown",
   "id": "256d6380-ceef-4be2-8e8f-7e1be9d52c7a",
   "metadata": {},
   "source": [
    "# Panel Dashboard\n",
    "Inputting the functions into the final dashboard"
   ]
  },
  {
   "cell_type": "code",
   "execution_count": 62,
   "id": "7979ef9d-d235-4e92-a276-14fa2c6b31da",
   "metadata": {},
   "outputs": [],
   "source": [
    "# Create opening lines for the dashboard\n",
    "title = \"# Top 20 Metropolitan Statistical Area Housing Price Analysis\"\n",
    "subtitle = \"### An analysis of Housing Price Index in the major metropolitan areas of the United States\"\n",
    "team = \"<b>Team</b>: Alex Beckham, Jacob Jalomo, Joshua Bond\"\n",
    "\n",
    "# Create text to be included in tabs\n",
    "\n",
    "# Text - Overview\n",
    "\n",
    "# Text - Historical\n",
    "\n",
    "# Text - Correlations\n",
    "title_corr = \"### Correlating Housing Price Index, Population, Personal Income, and Employment\"\n",
    "subtitle_corr = \"Determining whether Population, Personal Income, and Employment have a high correlation with Housing Price Index.<br>High correlations will indicate upward trends in these variables can signal an upward trend in housing price index.\"\n",
    "title_heatmap = \"### High-Level Correlation Between All Variables\"\n",
    "title_msa = \"### Individual Correlations Grouped by MSA\"\n",
    "subtitle_msa = \"Deep Dive into individual Metropolitan Statistical Areas\"\n",
    "\n",
    "# Text - Forecasts\n",
    "\n",
    "# Text - Conclusion\n",
    "\n",
    "# Create a tab layout for the dashboard\n",
    "# overview = pn.panel()\n",
    "# historical = pn.Column()\n",
    "correlations = pn.Column(\n",
    "    title_corr,\n",
    "    subtitle_corr,\n",
    "    title_heatmap,\n",
    "    total_correlation(),\n",
    "    title_msa,\n",
    "    subtitle_msa,\n",
    "    hpi_vs_population(),\n",
    "    hpi_vs_income(),\n",
    "    hpi_vs_employment()\n",
    ")\n",
    "\n",
    "tabs = pn.Tabs(\n",
    "    (\"Correlations\",correlations)\n",
    ")\n",
    "\n",
    "dashboard = pn.Column(\n",
    "    title,\n",
    "    subtitle,\n",
    "    team,\n",
    "    tabs\n",
    ")"
   ]
  },
  {
   "cell_type": "code",
   "execution_count": 63,
   "id": "a03abacc-5ae5-435f-b893-0c9e8f0111d0",
   "metadata": {},
   "outputs": [
    {
     "name": "stdout",
     "output_type": "stream",
     "text": [
      "Launching server at http://localhost:59447\n"
     ]
    },
    {
     "data": {
      "text/plain": [
       "<bokeh.server.server.Server at 0x7f923c4ac8e0>"
      ]
     },
     "execution_count": 63,
     "metadata": {},
     "output_type": "execute_result"
    }
   ],
   "source": [
    "# serve the dashboard\n",
    "pn.serve(dashboard)"
   ]
  },
  {
   "cell_type": "markdown",
   "id": "adbd10ea-0b7f-40dc-89a7-ba1fd003d2b7",
   "metadata": {},
   "source": [
    "# Debugging\n",
    "Testing each function to see if outputs are correct"
   ]
  },
  {
   "cell_type": "code",
   "execution_count": null,
   "id": "48260454-f9f6-4c6b-bd88-abf2aca39de8",
   "metadata": {},
   "outputs": [],
   "source": [
    "# overview functions"
   ]
  },
  {
   "cell_type": "code",
   "execution_count": null,
   "id": "d20055f0-c7f6-41e2-9bc6-44c24361aa16",
   "metadata": {},
   "outputs": [],
   "source": [
    "# historical functions"
   ]
  },
  {
   "cell_type": "code",
   "execution_count": 51,
   "id": "fbae2f32-e0b8-40e3-9137-6b1c714f3eb7",
   "metadata": {},
   "outputs": [],
   "source": [
    "# correlation functions\n",
    "\n",
    "# total_correlation()\n",
    "# hpi_vs_population()\n",
    "# hpi_vs_income()\n",
    "# hpi_vs_employment()"
   ]
  },
  {
   "cell_type": "code",
   "execution_count": null,
   "id": "aef790c5-2078-438a-8c19-c8d7321bc611",
   "metadata": {},
   "outputs": [],
   "source": [
    "# forecast functions"
   ]
  },
  {
   "cell_type": "code",
   "execution_count": null,
   "id": "d6204328-ef1e-403c-bc0e-bd7aa18390f3",
   "metadata": {},
   "outputs": [],
   "source": [
    "# conclusion functions"
   ]
  }
 ],
 "metadata": {
  "kernelspec": {
   "display_name": "Python 3",
   "language": "python",
   "name": "python3"
  },
  "language_info": {
   "codemirror_mode": {
    "name": "ipython",
    "version": 3
   },
   "file_extension": ".py",
   "mimetype": "text/x-python",
   "name": "python",
   "nbconvert_exporter": "python",
   "pygments_lexer": "ipython3",
   "version": "3.8.2"
  }
 },
 "nbformat": 4,
 "nbformat_minor": 5
}
