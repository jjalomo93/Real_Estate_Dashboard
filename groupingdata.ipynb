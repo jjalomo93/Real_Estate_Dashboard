{
 "metadata": {
  "language_info": {
   "codemirror_mode": {
    "name": "ipython",
    "version": 3
   },
   "file_extension": ".py",
   "mimetype": "text/x-python",
   "name": "python",
   "nbconvert_exporter": "python",
   "pygments_lexer": "ipython3",
   "version": "3.7.9"
  },
  "orig_nbformat": 2,
  "kernelspec": {
   "name": "python379jvsc74a57bd04cb5ea3394bfdc6abf1cba6e6023a5136a123bd60d92a96eabaf849483bfdf79",
   "display_name": "Python 3.7.9 64-bit ('dev': conda)"
  }
 },
 "nbformat": 4,
 "nbformat_minor": 2,
 "cells": [
  {
   "cell_type": "code",
   "execution_count": 2,
   "metadata": {},
   "outputs": [],
   "source": [
    "# import libraries\n",
    "import pandas as pd\n",
    "from pathlib import Path\n",
    "import datetime as dt\n",
    "\n",
    "import warnings\n",
    "warnings.filterwarnings('ignore')"
   ]
  },
  {
   "cell_type": "code",
   "execution_count": 3,
   "metadata": {},
   "outputs": [
    {
     "output_type": "execute_result",
     "data": {
      "text/plain": [
       "   GeoFips          MSA  Year  Population  Personal Income  Number Jobs\n",
       "0    10180  Abilene, TX  2000      160288          3675392        91027\n",
       "1    10180  Abilene, TX  2001      158917          3753367        89511\n",
       "2    10180  Abilene, TX  2002      159012          3905004        90338\n",
       "3    10180  Abilene, TX  2003      158810          4137066        91132\n",
       "4    10180  Abilene, TX  2004      160156          4325061        91998"
      ],
      "text/html": "<div>\n<style scoped>\n    .dataframe tbody tr th:only-of-type {\n        vertical-align: middle;\n    }\n\n    .dataframe tbody tr th {\n        vertical-align: top;\n    }\n\n    .dataframe thead th {\n        text-align: right;\n    }\n</style>\n<table border=\"1\" class=\"dataframe\">\n  <thead>\n    <tr style=\"text-align: right;\">\n      <th></th>\n      <th>GeoFips</th>\n      <th>MSA</th>\n      <th>Year</th>\n      <th>Population</th>\n      <th>Personal Income</th>\n      <th>Number Jobs</th>\n    </tr>\n  </thead>\n  <tbody>\n    <tr>\n      <th>0</th>\n      <td>10180</td>\n      <td>Abilene, TX</td>\n      <td>2000</td>\n      <td>160288</td>\n      <td>3675392</td>\n      <td>91027</td>\n    </tr>\n    <tr>\n      <th>1</th>\n      <td>10180</td>\n      <td>Abilene, TX</td>\n      <td>2001</td>\n      <td>158917</td>\n      <td>3753367</td>\n      <td>89511</td>\n    </tr>\n    <tr>\n      <th>2</th>\n      <td>10180</td>\n      <td>Abilene, TX</td>\n      <td>2002</td>\n      <td>159012</td>\n      <td>3905004</td>\n      <td>90338</td>\n    </tr>\n    <tr>\n      <th>3</th>\n      <td>10180</td>\n      <td>Abilene, TX</td>\n      <td>2003</td>\n      <td>158810</td>\n      <td>4137066</td>\n      <td>91132</td>\n    </tr>\n    <tr>\n      <th>4</th>\n      <td>10180</td>\n      <td>Abilene, TX</td>\n      <td>2004</td>\n      <td>160156</td>\n      <td>4325061</td>\n      <td>91998</td>\n    </tr>\n  </tbody>\n</table>\n</div>"
     },
     "metadata": {},
     "execution_count": 3
    }
   ],
   "source": [
    "# import the raw csv data from first csv\n",
    "csv1 = Path(\"clean_data/employ_inc_pop_clean.csv\")\n",
    "df1 = pd.read_csv(csv1)\n",
    "df1.head()"
   ]
  },
  {
   "cell_type": "code",
   "execution_count": 4,
   "metadata": {},
   "outputs": [
    {
     "output_type": "execute_result",
     "data": {
      "text/plain": [
       "                           MSA  Year         HPI\n",
       "0                  Abilene, TX  2000   99.847500\n",
       "1                    Akron, OH  2000   99.735833\n",
       "2                   Albany, GA  2000   99.650000\n",
       "3                   Albany, OR  2000  100.833333\n",
       "4  Albany-Schenectady-Troy, NY  2000   98.339167"
      ],
      "text/html": "<div>\n<style scoped>\n    .dataframe tbody tr th:only-of-type {\n        vertical-align: middle;\n    }\n\n    .dataframe tbody tr th {\n        vertical-align: top;\n    }\n\n    .dataframe thead th {\n        text-align: right;\n    }\n</style>\n<table border=\"1\" class=\"dataframe\">\n  <thead>\n    <tr style=\"text-align: right;\">\n      <th></th>\n      <th>MSA</th>\n      <th>Year</th>\n      <th>HPI</th>\n    </tr>\n  </thead>\n  <tbody>\n    <tr>\n      <th>0</th>\n      <td>Abilene, TX</td>\n      <td>2000</td>\n      <td>99.847500</td>\n    </tr>\n    <tr>\n      <th>1</th>\n      <td>Akron, OH</td>\n      <td>2000</td>\n      <td>99.735833</td>\n    </tr>\n    <tr>\n      <th>2</th>\n      <td>Albany, GA</td>\n      <td>2000</td>\n      <td>99.650000</td>\n    </tr>\n    <tr>\n      <th>3</th>\n      <td>Albany, OR</td>\n      <td>2000</td>\n      <td>100.833333</td>\n    </tr>\n    <tr>\n      <th>4</th>\n      <td>Albany-Schenectady-Troy, NY</td>\n      <td>2000</td>\n      <td>98.339167</td>\n    </tr>\n  </tbody>\n</table>\n</div>"
     },
     "metadata": {},
     "execution_count": 4
    }
   ],
   "source": [
    "# import the raw csv data from second csv\n",
    "csv2 = Path(\"clean_data/HPI_clean.csv\")\n",
    "df2 = pd.read_csv(csv2)\n",
    "df2.head()"
   ]
  },
  {
   "cell_type": "code",
   "execution_count": 5,
   "metadata": {},
   "outputs": [],
   "source": [
    "# merge datasets\n",
    "result = df1.merge(df2, on=['MSA','Year'], how='inner')"
   ]
  },
  {
   "cell_type": "code",
   "execution_count": 6,
   "metadata": {},
   "outputs": [
    {
     "output_type": "execute_result",
     "data": {
      "text/plain": [
       "      GeoFips       MSA  Year  Population  Personal Income  Number Jobs  \\\n",
       "6835    49740  Yuma, AZ  2015      205186          6435455        85800   \n",
       "6836    49740  Yuma, AZ  2016      207247          6741154        88674   \n",
       "6837    49740  Yuma, AZ  2017      209507          7116699        88293   \n",
       "6838    49740  Yuma, AZ  2018      211612          7408956        89875   \n",
       "6839    49740  Yuma, AZ  2019      213787          7818246        91296   \n",
       "\n",
       "             HPI  \n",
       "6835  136.486667  \n",
       "6836  141.590833  \n",
       "6837  149.025833  \n",
       "6838  155.399167  \n",
       "6839  163.309167  "
      ],
      "text/html": "<div>\n<style scoped>\n    .dataframe tbody tr th:only-of-type {\n        vertical-align: middle;\n    }\n\n    .dataframe tbody tr th {\n        vertical-align: top;\n    }\n\n    .dataframe thead th {\n        text-align: right;\n    }\n</style>\n<table border=\"1\" class=\"dataframe\">\n  <thead>\n    <tr style=\"text-align: right;\">\n      <th></th>\n      <th>GeoFips</th>\n      <th>MSA</th>\n      <th>Year</th>\n      <th>Population</th>\n      <th>Personal Income</th>\n      <th>Number Jobs</th>\n      <th>HPI</th>\n    </tr>\n  </thead>\n  <tbody>\n    <tr>\n      <th>6835</th>\n      <td>49740</td>\n      <td>Yuma, AZ</td>\n      <td>2015</td>\n      <td>205186</td>\n      <td>6435455</td>\n      <td>85800</td>\n      <td>136.486667</td>\n    </tr>\n    <tr>\n      <th>6836</th>\n      <td>49740</td>\n      <td>Yuma, AZ</td>\n      <td>2016</td>\n      <td>207247</td>\n      <td>6741154</td>\n      <td>88674</td>\n      <td>141.590833</td>\n    </tr>\n    <tr>\n      <th>6837</th>\n      <td>49740</td>\n      <td>Yuma, AZ</td>\n      <td>2017</td>\n      <td>209507</td>\n      <td>7116699</td>\n      <td>88293</td>\n      <td>149.025833</td>\n    </tr>\n    <tr>\n      <th>6838</th>\n      <td>49740</td>\n      <td>Yuma, AZ</td>\n      <td>2018</td>\n      <td>211612</td>\n      <td>7408956</td>\n      <td>89875</td>\n      <td>155.399167</td>\n    </tr>\n    <tr>\n      <th>6839</th>\n      <td>49740</td>\n      <td>Yuma, AZ</td>\n      <td>2019</td>\n      <td>213787</td>\n      <td>7818246</td>\n      <td>91296</td>\n      <td>163.309167</td>\n    </tr>\n  </tbody>\n</table>\n</div>"
     },
     "metadata": {},
     "execution_count": 6
    }
   ],
   "source": [
    "result.tail()"
   ]
  },
  {
   "cell_type": "code",
   "execution_count": 7,
   "metadata": {},
   "outputs": [],
   "source": [
    "# create a dataframe to show most recent year and filter out largest 20 MSAs\n",
    "df2019 = result.loc[result['Year'] == 2019]\n",
    "df2019 = df2019.nlargest(20, 'Population')"
   ]
  },
  {
   "cell_type": "code",
   "execution_count": 8,
   "metadata": {},
   "outputs": [
    {
     "output_type": "execute_result",
     "data": {
      "text/plain": [
       "      GeoFips                                    MSA  Year  Population  \\\n",
       "4559    35620  New York-Newark-Jersey City, NY-NJ-PA  2019    19216182   \n",
       "3879    31080     Los Angeles-Long Beach-Anaheim, CA  2019    13214799   \n",
       "1219    16980     Chicago-Naperville-Elgin, IL-IN-WI  2019     9458539   \n",
       "1579    19100        Dallas-Fort Worth-Arlington, TX  2019     7573136   \n",
       "2879    26420   Houston-The Woodlands-Sugar Land, TX  2019     7066141   \n",
       "\n",
       "      Personal Income  Number Jobs         HPI  \n",
       "4559       1534294144     13142753  188.885833  \n",
       "3879        881215471      9027619  273.343333  \n",
       "1219        600616821      6216332  140.527500  \n",
       "1579        444730277      5226844  205.558333  \n",
       "2879        416121512      4401003  203.742500  "
      ],
      "text/html": "<div>\n<style scoped>\n    .dataframe tbody tr th:only-of-type {\n        vertical-align: middle;\n    }\n\n    .dataframe tbody tr th {\n        vertical-align: top;\n    }\n\n    .dataframe thead th {\n        text-align: right;\n    }\n</style>\n<table border=\"1\" class=\"dataframe\">\n  <thead>\n    <tr style=\"text-align: right;\">\n      <th></th>\n      <th>GeoFips</th>\n      <th>MSA</th>\n      <th>Year</th>\n      <th>Population</th>\n      <th>Personal Income</th>\n      <th>Number Jobs</th>\n      <th>HPI</th>\n    </tr>\n  </thead>\n  <tbody>\n    <tr>\n      <th>4559</th>\n      <td>35620</td>\n      <td>New York-Newark-Jersey City, NY-NJ-PA</td>\n      <td>2019</td>\n      <td>19216182</td>\n      <td>1534294144</td>\n      <td>13142753</td>\n      <td>188.885833</td>\n    </tr>\n    <tr>\n      <th>3879</th>\n      <td>31080</td>\n      <td>Los Angeles-Long Beach-Anaheim, CA</td>\n      <td>2019</td>\n      <td>13214799</td>\n      <td>881215471</td>\n      <td>9027619</td>\n      <td>273.343333</td>\n    </tr>\n    <tr>\n      <th>1219</th>\n      <td>16980</td>\n      <td>Chicago-Naperville-Elgin, IL-IN-WI</td>\n      <td>2019</td>\n      <td>9458539</td>\n      <td>600616821</td>\n      <td>6216332</td>\n      <td>140.527500</td>\n    </tr>\n    <tr>\n      <th>1579</th>\n      <td>19100</td>\n      <td>Dallas-Fort Worth-Arlington, TX</td>\n      <td>2019</td>\n      <td>7573136</td>\n      <td>444730277</td>\n      <td>5226844</td>\n      <td>205.558333</td>\n    </tr>\n    <tr>\n      <th>2879</th>\n      <td>26420</td>\n      <td>Houston-The Woodlands-Sugar Land, TX</td>\n      <td>2019</td>\n      <td>7066141</td>\n      <td>416121512</td>\n      <td>4401003</td>\n      <td>203.742500</td>\n    </tr>\n  </tbody>\n</table>\n</div>"
     },
     "metadata": {},
     "execution_count": 8
    }
   ],
   "source": [
    "df2019.head()"
   ]
  },
  {
   "cell_type": "code",
   "execution_count": 9,
   "metadata": {},
   "outputs": [
    {
     "output_type": "execute_result",
     "data": {
      "text/plain": [
       "4559           New York-Newark-Jersey City, NY-NJ-PA\n",
       "3879              Los Angeles-Long Beach-Anaheim, CA\n",
       "1219              Chicago-Naperville-Elgin, IL-IN-WI\n",
       "1579                 Dallas-Fort Worth-Arlington, TX\n",
       "2879            Houston-The Woodlands-Sugar Land, TX\n",
       "6499    Washington-Arlington-Alexandria, DC-VA-MD-WV\n",
       "4919     Philadelphia-Camden-Wilmington, PA-NJ-DE-MD\n",
       "739                   Boston-Cambridge-Newton, MA-NH\n",
       "5279            Riverside-San Bernardino-Ontario, CA\n",
       "1779                     Detroit-Warren-Dearborn, MI\n",
       "5739                     Seattle-Tacoma-Bellevue, WA\n",
       "4199         Minneapolis-St. Paul-Bloomington, MN-WI\n",
       "6119             Tampa-St. Petersburg-Clearwater, FL\n",
       "1739                      Denver-Aurora-Lakewood, CO\n",
       "5499                                St. Louis, MO-IL\n",
       "399                    Baltimore-Columbia-Towson, MD\n",
       "1139               Charlotte-Concord-Gastonia, NC-SC\n",
       "4739                   Orlando-Kissimmee-Sanford, FL\n",
       "5619                   San Antonio-New Braunfels, TX\n",
       "5039             Portland-Vancouver-Hillsboro, OR-WA\n",
       "Name: MSA, dtype: object"
      ]
     },
     "metadata": {},
     "execution_count": 9
    }
   ],
   "source": [
    "MSAs = df2019['MSA']\n",
    "MSAs"
   ]
  },
  {
   "cell_type": "code",
   "execution_count": 10,
   "metadata": {},
   "outputs": [
    {
     "output_type": "execute_result",
     "data": {
      "text/plain": [
       "   GeoFips                            MSA  Year  Population  Personal Income  \\\n",
       "0    12580  Baltimore-Columbia-Towson, MD  2000     2557958         88618199   \n",
       "1    12580  Baltimore-Columbia-Towson, MD  2001     2575471         92560218   \n",
       "2    12580  Baltimore-Columbia-Towson, MD  2002     2596501         96206347   \n",
       "3    12580  Baltimore-Columbia-Towson, MD  2003     2614232        100100963   \n",
       "4    12580  Baltimore-Columbia-Towson, MD  2004     2630946        106048601   \n",
       "\n",
       "   Number Jobs         HPI  \n",
       "0      1543762   97.520000  \n",
       "1      1547690  105.058333  \n",
       "2      1558796  116.961667  \n",
       "3      1566963  134.725833  \n",
       "4      1593882  158.941667  "
      ],
      "text/html": "<div>\n<style scoped>\n    .dataframe tbody tr th:only-of-type {\n        vertical-align: middle;\n    }\n\n    .dataframe tbody tr th {\n        vertical-align: top;\n    }\n\n    .dataframe thead th {\n        text-align: right;\n    }\n</style>\n<table border=\"1\" class=\"dataframe\">\n  <thead>\n    <tr style=\"text-align: right;\">\n      <th></th>\n      <th>GeoFips</th>\n      <th>MSA</th>\n      <th>Year</th>\n      <th>Population</th>\n      <th>Personal Income</th>\n      <th>Number Jobs</th>\n      <th>HPI</th>\n    </tr>\n  </thead>\n  <tbody>\n    <tr>\n      <th>0</th>\n      <td>12580</td>\n      <td>Baltimore-Columbia-Towson, MD</td>\n      <td>2000</td>\n      <td>2557958</td>\n      <td>88618199</td>\n      <td>1543762</td>\n      <td>97.520000</td>\n    </tr>\n    <tr>\n      <th>1</th>\n      <td>12580</td>\n      <td>Baltimore-Columbia-Towson, MD</td>\n      <td>2001</td>\n      <td>2575471</td>\n      <td>92560218</td>\n      <td>1547690</td>\n      <td>105.058333</td>\n    </tr>\n    <tr>\n      <th>2</th>\n      <td>12580</td>\n      <td>Baltimore-Columbia-Towson, MD</td>\n      <td>2002</td>\n      <td>2596501</td>\n      <td>96206347</td>\n      <td>1558796</td>\n      <td>116.961667</td>\n    </tr>\n    <tr>\n      <th>3</th>\n      <td>12580</td>\n      <td>Baltimore-Columbia-Towson, MD</td>\n      <td>2003</td>\n      <td>2614232</td>\n      <td>100100963</td>\n      <td>1566963</td>\n      <td>134.725833</td>\n    </tr>\n    <tr>\n      <th>4</th>\n      <td>12580</td>\n      <td>Baltimore-Columbia-Towson, MD</td>\n      <td>2004</td>\n      <td>2630946</td>\n      <td>106048601</td>\n      <td>1593882</td>\n      <td>158.941667</td>\n    </tr>\n  </tbody>\n</table>\n</div>"
     },
     "metadata": {},
     "execution_count": 10
    }
   ],
   "source": [
    "# merge all data with top 20 MSAs to get final data on only the top 20 MSAs\n",
    "result1 = result.merge(MSAs, on=\"MSA\", how='inner')\n",
    "result1.head()"
   ]
  },
  {
   "cell_type": "code",
   "execution_count": 11,
   "metadata": {},
   "outputs": [],
   "source": [
    "result1.to_csv('clean_data/all_clean.csv', index=False, header=True)"
   ]
  },
  {
   "cell_type": "code",
   "execution_count": null,
   "metadata": {},
   "outputs": [],
   "source": []
  },
  {
   "cell_type": "code",
   "execution_count": 18,
   "metadata": {},
   "outputs": [
    {
     "output_type": "execute_result",
     "data": {
      "text/plain": [
       "                           MSA  Year        HPI\n",
       "0                  Abilene, TX  1975  46.904167\n",
       "1                    Akron, OH  1975  30.110833\n",
       "2                   Albany, GA  1975  41.338333\n",
       "3                   Albany, OR  1975  22.504167\n",
       "4  Albany-Schenectady-Troy, NY  1975  35.212500"
      ],
      "text/html": "<div>\n<style scoped>\n    .dataframe tbody tr th:only-of-type {\n        vertical-align: middle;\n    }\n\n    .dataframe tbody tr th {\n        vertical-align: top;\n    }\n\n    .dataframe thead th {\n        text-align: right;\n    }\n</style>\n<table border=\"1\" class=\"dataframe\">\n  <thead>\n    <tr style=\"text-align: right;\">\n      <th></th>\n      <th>MSA</th>\n      <th>Year</th>\n      <th>HPI</th>\n    </tr>\n  </thead>\n  <tbody>\n    <tr>\n      <th>0</th>\n      <td>Abilene, TX</td>\n      <td>1975</td>\n      <td>46.904167</td>\n    </tr>\n    <tr>\n      <th>1</th>\n      <td>Akron, OH</td>\n      <td>1975</td>\n      <td>30.110833</td>\n    </tr>\n    <tr>\n      <th>2</th>\n      <td>Albany, GA</td>\n      <td>1975</td>\n      <td>41.338333</td>\n    </tr>\n    <tr>\n      <th>3</th>\n      <td>Albany, OR</td>\n      <td>1975</td>\n      <td>22.504167</td>\n    </tr>\n    <tr>\n      <th>4</th>\n      <td>Albany-Schenectady-Troy, NY</td>\n      <td>1975</td>\n      <td>35.212500</td>\n    </tr>\n  </tbody>\n</table>\n</div>"
     },
     "metadata": {},
     "execution_count": 18
    }
   ],
   "source": [
    "# bring in full HPI dataset from 1975 to 2020\n",
    "csv3 = Path('clean_data/HPI_yearly_full.csv')\n",
    "df3 = pd.read_csv(csv3)\n",
    "df3.head()"
   ]
  },
  {
   "cell_type": "code",
   "execution_count": 19,
   "metadata": {},
   "outputs": [],
   "source": [
    "# merge top 20 MSAs with full HPI data to get HPI data for only top 20 MSAs\n",
    "top20_yearly = df3.merge(MSAs, on=\"MSA\", how='inner')"
   ]
  },
  {
   "cell_type": "code",
   "execution_count": 20,
   "metadata": {},
   "outputs": [
    {
     "output_type": "execute_result",
     "data": {
      "text/plain": [
       "                             MSA  Year        HPI\n",
       "0  Baltimore-Columbia-Towson, MD  1975  27.319167\n",
       "1  Baltimore-Columbia-Towson, MD  1976  29.631667\n",
       "2  Baltimore-Columbia-Towson, MD  1977  32.359167\n",
       "3  Baltimore-Columbia-Towson, MD  1978  35.471667\n",
       "4  Baltimore-Columbia-Towson, MD  1979  39.037500"
      ],
      "text/html": "<div>\n<style scoped>\n    .dataframe tbody tr th:only-of-type {\n        vertical-align: middle;\n    }\n\n    .dataframe tbody tr th {\n        vertical-align: top;\n    }\n\n    .dataframe thead th {\n        text-align: right;\n    }\n</style>\n<table border=\"1\" class=\"dataframe\">\n  <thead>\n    <tr style=\"text-align: right;\">\n      <th></th>\n      <th>MSA</th>\n      <th>Year</th>\n      <th>HPI</th>\n    </tr>\n  </thead>\n  <tbody>\n    <tr>\n      <th>0</th>\n      <td>Baltimore-Columbia-Towson, MD</td>\n      <td>1975</td>\n      <td>27.319167</td>\n    </tr>\n    <tr>\n      <th>1</th>\n      <td>Baltimore-Columbia-Towson, MD</td>\n      <td>1976</td>\n      <td>29.631667</td>\n    </tr>\n    <tr>\n      <th>2</th>\n      <td>Baltimore-Columbia-Towson, MD</td>\n      <td>1977</td>\n      <td>32.359167</td>\n    </tr>\n    <tr>\n      <th>3</th>\n      <td>Baltimore-Columbia-Towson, MD</td>\n      <td>1978</td>\n      <td>35.471667</td>\n    </tr>\n    <tr>\n      <th>4</th>\n      <td>Baltimore-Columbia-Towson, MD</td>\n      <td>1979</td>\n      <td>39.037500</td>\n    </tr>\n  </tbody>\n</table>\n</div>"
     },
     "metadata": {},
     "execution_count": 20
    }
   ],
   "source": [
    "top20_yearly.head()"
   ]
  },
  {
   "cell_type": "code",
   "execution_count": null,
   "metadata": {},
   "outputs": [],
   "source": []
  },
  {
   "cell_type": "code",
   "execution_count": 22,
   "metadata": {},
   "outputs": [
    {
     "output_type": "execute_result",
     "data": {
      "text/plain": [
       "   GeoFips          MSA  Year  Population  Personal Income  Number Jobs\n",
       "0    10180  Abilene, TX  1969      125138           397478        56041\n",
       "1    10180  Abilene, TX  1970      122505           445225        56215\n",
       "2    10180  Abilene, TX  1971      124841           476061        56614\n",
       "3    10180  Abilene, TX  1972      128517           541293        59092\n",
       "4    10180  Abilene, TX  1973      127533           581519        60359"
      ],
      "text/html": "<div>\n<style scoped>\n    .dataframe tbody tr th:only-of-type {\n        vertical-align: middle;\n    }\n\n    .dataframe tbody tr th {\n        vertical-align: top;\n    }\n\n    .dataframe thead th {\n        text-align: right;\n    }\n</style>\n<table border=\"1\" class=\"dataframe\">\n  <thead>\n    <tr style=\"text-align: right;\">\n      <th></th>\n      <th>GeoFips</th>\n      <th>MSA</th>\n      <th>Year</th>\n      <th>Population</th>\n      <th>Personal Income</th>\n      <th>Number Jobs</th>\n    </tr>\n  </thead>\n  <tbody>\n    <tr>\n      <th>0</th>\n      <td>10180</td>\n      <td>Abilene, TX</td>\n      <td>1969</td>\n      <td>125138</td>\n      <td>397478</td>\n      <td>56041</td>\n    </tr>\n    <tr>\n      <th>1</th>\n      <td>10180</td>\n      <td>Abilene, TX</td>\n      <td>1970</td>\n      <td>122505</td>\n      <td>445225</td>\n      <td>56215</td>\n    </tr>\n    <tr>\n      <th>2</th>\n      <td>10180</td>\n      <td>Abilene, TX</td>\n      <td>1971</td>\n      <td>124841</td>\n      <td>476061</td>\n      <td>56614</td>\n    </tr>\n    <tr>\n      <th>3</th>\n      <td>10180</td>\n      <td>Abilene, TX</td>\n      <td>1972</td>\n      <td>128517</td>\n      <td>541293</td>\n      <td>59092</td>\n    </tr>\n    <tr>\n      <th>4</th>\n      <td>10180</td>\n      <td>Abilene, TX</td>\n      <td>1973</td>\n      <td>127533</td>\n      <td>581519</td>\n      <td>60359</td>\n    </tr>\n  </tbody>\n</table>\n</div>"
     },
     "metadata": {},
     "execution_count": 22
    }
   ],
   "source": [
    "# bring in all data for jobs income and population from 1969 to 2019\n",
    "csv4 = Path(\"clean_data/employ_inc_pop_clean_full.csv\")\n",
    "df4 = pd.read_csv(csv4)\n",
    "df4.head()"
   ]
  },
  {
   "cell_type": "code",
   "execution_count": 23,
   "metadata": {},
   "outputs": [],
   "source": [
    "# merge top 20 MSAs with full jobs, income, and population data to get data for only top 20 MSAs\n",
    "top20_PIJ = df4.merge(MSAs, on=\"MSA\", how=\"inner\")"
   ]
  },
  {
   "cell_type": "code",
   "execution_count": 27,
   "metadata": {},
   "outputs": [
    {
     "output_type": "execute_result",
     "data": {
      "text/plain": [
       "    GeoFips                            MSA  Year  Population  Personal Income  \\\n",
       "0     12580  Baltimore-Columbia-Towson, MD  1969     2072804          8660693   \n",
       "1     12580  Baltimore-Columbia-Towson, MD  1970     2094838          9420898   \n",
       "2     12580  Baltimore-Columbia-Towson, MD  1971     2132113         10314326   \n",
       "3     12580  Baltimore-Columbia-Towson, MD  1972     2152232         11336168   \n",
       "4     12580  Baltimore-Columbia-Towson, MD  1973     2167899         12535270   \n",
       "5     12580  Baltimore-Columbia-Towson, MD  1974     2179392         13835894   \n",
       "6     12580  Baltimore-Columbia-Towson, MD  1975     2184332         14987764   \n",
       "7     12580  Baltimore-Columbia-Towson, MD  1976     2188964         16344005   \n",
       "8     12580  Baltimore-Columbia-Towson, MD  1977     2201877         17827450   \n",
       "9     12580  Baltimore-Columbia-Towson, MD  1978     2204362         19889912   \n",
       "10    12580  Baltimore-Columbia-Towson, MD  1979     2209160         21951910   \n",
       "11    12580  Baltimore-Columbia-Towson, MD  1980     2203385         24628751   \n",
       "12    12580  Baltimore-Columbia-Towson, MD  1981     2214413         27264037   \n",
       "13    12580  Baltimore-Columbia-Towson, MD  1982     2220748         29340768   \n",
       "14    12580  Baltimore-Columbia-Towson, MD  1983     2228439         31328742   \n",
       "\n",
       "    Number Jobs  \n",
       "0        991148  \n",
       "1        991821  \n",
       "2        994410  \n",
       "3       1011325  \n",
       "4       1041876  \n",
       "5       1056134  \n",
       "6       1038096  \n",
       "7       1040323  \n",
       "8       1068371  \n",
       "9       1108082  \n",
       "10      1139209  \n",
       "11      1139485  \n",
       "12      1146005  \n",
       "13      1137050  \n",
       "14      1164025  "
      ],
      "text/html": "<div>\n<style scoped>\n    .dataframe tbody tr th:only-of-type {\n        vertical-align: middle;\n    }\n\n    .dataframe tbody tr th {\n        vertical-align: top;\n    }\n\n    .dataframe thead th {\n        text-align: right;\n    }\n</style>\n<table border=\"1\" class=\"dataframe\">\n  <thead>\n    <tr style=\"text-align: right;\">\n      <th></th>\n      <th>GeoFips</th>\n      <th>MSA</th>\n      <th>Year</th>\n      <th>Population</th>\n      <th>Personal Income</th>\n      <th>Number Jobs</th>\n    </tr>\n  </thead>\n  <tbody>\n    <tr>\n      <th>0</th>\n      <td>12580</td>\n      <td>Baltimore-Columbia-Towson, MD</td>\n      <td>1969</td>\n      <td>2072804</td>\n      <td>8660693</td>\n      <td>991148</td>\n    </tr>\n    <tr>\n      <th>1</th>\n      <td>12580</td>\n      <td>Baltimore-Columbia-Towson, MD</td>\n      <td>1970</td>\n      <td>2094838</td>\n      <td>9420898</td>\n      <td>991821</td>\n    </tr>\n    <tr>\n      <th>2</th>\n      <td>12580</td>\n      <td>Baltimore-Columbia-Towson, MD</td>\n      <td>1971</td>\n      <td>2132113</td>\n      <td>10314326</td>\n      <td>994410</td>\n    </tr>\n    <tr>\n      <th>3</th>\n      <td>12580</td>\n      <td>Baltimore-Columbia-Towson, MD</td>\n      <td>1972</td>\n      <td>2152232</td>\n      <td>11336168</td>\n      <td>1011325</td>\n    </tr>\n    <tr>\n      <th>4</th>\n      <td>12580</td>\n      <td>Baltimore-Columbia-Towson, MD</td>\n      <td>1973</td>\n      <td>2167899</td>\n      <td>12535270</td>\n      <td>1041876</td>\n    </tr>\n    <tr>\n      <th>5</th>\n      <td>12580</td>\n      <td>Baltimore-Columbia-Towson, MD</td>\n      <td>1974</td>\n      <td>2179392</td>\n      <td>13835894</td>\n      <td>1056134</td>\n    </tr>\n    <tr>\n      <th>6</th>\n      <td>12580</td>\n      <td>Baltimore-Columbia-Towson, MD</td>\n      <td>1975</td>\n      <td>2184332</td>\n      <td>14987764</td>\n      <td>1038096</td>\n    </tr>\n    <tr>\n      <th>7</th>\n      <td>12580</td>\n      <td>Baltimore-Columbia-Towson, MD</td>\n      <td>1976</td>\n      <td>2188964</td>\n      <td>16344005</td>\n      <td>1040323</td>\n    </tr>\n    <tr>\n      <th>8</th>\n      <td>12580</td>\n      <td>Baltimore-Columbia-Towson, MD</td>\n      <td>1977</td>\n      <td>2201877</td>\n      <td>17827450</td>\n      <td>1068371</td>\n    </tr>\n    <tr>\n      <th>9</th>\n      <td>12580</td>\n      <td>Baltimore-Columbia-Towson, MD</td>\n      <td>1978</td>\n      <td>2204362</td>\n      <td>19889912</td>\n      <td>1108082</td>\n    </tr>\n    <tr>\n      <th>10</th>\n      <td>12580</td>\n      <td>Baltimore-Columbia-Towson, MD</td>\n      <td>1979</td>\n      <td>2209160</td>\n      <td>21951910</td>\n      <td>1139209</td>\n    </tr>\n    <tr>\n      <th>11</th>\n      <td>12580</td>\n      <td>Baltimore-Columbia-Towson, MD</td>\n      <td>1980</td>\n      <td>2203385</td>\n      <td>24628751</td>\n      <td>1139485</td>\n    </tr>\n    <tr>\n      <th>12</th>\n      <td>12580</td>\n      <td>Baltimore-Columbia-Towson, MD</td>\n      <td>1981</td>\n      <td>2214413</td>\n      <td>27264037</td>\n      <td>1146005</td>\n    </tr>\n    <tr>\n      <th>13</th>\n      <td>12580</td>\n      <td>Baltimore-Columbia-Towson, MD</td>\n      <td>1982</td>\n      <td>2220748</td>\n      <td>29340768</td>\n      <td>1137050</td>\n    </tr>\n    <tr>\n      <th>14</th>\n      <td>12580</td>\n      <td>Baltimore-Columbia-Towson, MD</td>\n      <td>1983</td>\n      <td>2228439</td>\n      <td>31328742</td>\n      <td>1164025</td>\n    </tr>\n  </tbody>\n</table>\n</div>"
     },
     "metadata": {},
     "execution_count": 27
    }
   ],
   "source": [
    "top20_PIJ.head(15)"
   ]
  },
  {
   "cell_type": "code",
   "execution_count": 25,
   "metadata": {},
   "outputs": [],
   "source": [
    "# merge HPI data with population, income, and jobs for top 20 MSAs\n",
    "top20_full = top20_PIJ.merge(top20_yearly, on=['MSA','Year'], how='inner')"
   ]
  },
  {
   "cell_type": "code",
   "execution_count": 26,
   "metadata": {},
   "outputs": [
    {
     "output_type": "execute_result",
     "data": {
      "text/plain": [
       "     GeoFips                                           MSA  Year  Population  \\\n",
       "0      12580                 Baltimore-Columbia-Towson, MD  1975     2184332   \n",
       "1      12580                 Baltimore-Columbia-Towson, MD  1976     2188964   \n",
       "2      12580                 Baltimore-Columbia-Towson, MD  1977     2201877   \n",
       "3      12580                 Baltimore-Columbia-Towson, MD  1978     2204362   \n",
       "4      12580                 Baltimore-Columbia-Towson, MD  1979     2209160   \n",
       "5      12580                 Baltimore-Columbia-Towson, MD  1980     2203385   \n",
       "6      12580                 Baltimore-Columbia-Towson, MD  1981     2214413   \n",
       "7      12580                 Baltimore-Columbia-Towson, MD  1982     2220748   \n",
       "8      12580                 Baltimore-Columbia-Towson, MD  1983     2228439   \n",
       "9      12580                 Baltimore-Columbia-Towson, MD  1984     2244735   \n",
       "10     12580                 Baltimore-Columbia-Towson, MD  1985     2255970   \n",
       "11     12580                 Baltimore-Columbia-Towson, MD  1986     2285633   \n",
       "12     12580                 Baltimore-Columbia-Towson, MD  1987     2309719   \n",
       "13     12580                 Baltimore-Columbia-Towson, MD  1988     2340870   \n",
       "14     12580                 Baltimore-Columbia-Towson, MD  1989     2360610   \n",
       "15     12580                 Baltimore-Columbia-Towson, MD  1990     2390543   \n",
       "16     12580                 Baltimore-Columbia-Towson, MD  1991     2418136   \n",
       "17     12580                 Baltimore-Columbia-Towson, MD  1992     2440078   \n",
       "18     12580                 Baltimore-Columbia-Towson, MD  1993     2458038   \n",
       "19     12580                 Baltimore-Columbia-Towson, MD  1994     2475364   \n",
       "20     12580                 Baltimore-Columbia-Towson, MD  1995     2490370   \n",
       "21     12580                 Baltimore-Columbia-Towson, MD  1996     2501453   \n",
       "22     12580                 Baltimore-Columbia-Towson, MD  1997     2513492   \n",
       "23     12580                 Baltimore-Columbia-Towson, MD  1998     2525266   \n",
       "24     12580                 Baltimore-Columbia-Towson, MD  1999     2540307   \n",
       "25     12580                 Baltimore-Columbia-Towson, MD  2000     2557958   \n",
       "26     12580                 Baltimore-Columbia-Towson, MD  2001     2575471   \n",
       "27     12580                 Baltimore-Columbia-Towson, MD  2002     2596501   \n",
       "28     12580                 Baltimore-Columbia-Towson, MD  2003     2614232   \n",
       "29     12580                 Baltimore-Columbia-Towson, MD  2004     2630946   \n",
       "..       ...                                           ...   ...         ...   \n",
       "870    47900  Washington-Arlington-Alexandria, DC-VA-MD-WV  1990     4185342   \n",
       "871    47900  Washington-Arlington-Alexandria, DC-VA-MD-WV  1991     4247235   \n",
       "872    47900  Washington-Arlington-Alexandria, DC-VA-MD-WV  1992     4312067   \n",
       "873    47900  Washington-Arlington-Alexandria, DC-VA-MD-WV  1993     4374165   \n",
       "874    47900  Washington-Arlington-Alexandria, DC-VA-MD-WV  1994     4434176   \n",
       "875    47900  Washington-Arlington-Alexandria, DC-VA-MD-WV  1995     4488385   \n",
       "876    47900  Washington-Arlington-Alexandria, DC-VA-MD-WV  1996     4549151   \n",
       "877    47900  Washington-Arlington-Alexandria, DC-VA-MD-WV  1997     4614434   \n",
       "878    47900  Washington-Arlington-Alexandria, DC-VA-MD-WV  1998     4684826   \n",
       "879    47900  Washington-Arlington-Alexandria, DC-VA-MD-WV  1999     4776083   \n",
       "880    47900  Washington-Arlington-Alexandria, DC-VA-MD-WV  2000     4875923   \n",
       "881    47900  Washington-Arlington-Alexandria, DC-VA-MD-WV  2001     4982993   \n",
       "882    47900  Washington-Arlington-Alexandria, DC-VA-MD-WV  2002     5068667   \n",
       "883    47900  Washington-Arlington-Alexandria, DC-VA-MD-WV  2003     5137498   \n",
       "884    47900  Washington-Arlington-Alexandria, DC-VA-MD-WV  2004     5212772   \n",
       "885    47900  Washington-Arlington-Alexandria, DC-VA-MD-WV  2005     5286683   \n",
       "886    47900  Washington-Arlington-Alexandria, DC-VA-MD-WV  2006     5332180   \n",
       "887    47900  Washington-Arlington-Alexandria, DC-VA-MD-WV  2007     5386334   \n",
       "888    47900  Washington-Arlington-Alexandria, DC-VA-MD-WV  2008     5458415   \n",
       "889    47900  Washington-Arlington-Alexandria, DC-VA-MD-WV  2009     5561253   \n",
       "890    47900  Washington-Arlington-Alexandria, DC-VA-MD-WV  2010     5678491   \n",
       "891    47900  Washington-Arlington-Alexandria, DC-VA-MD-WV  2011     5782319   \n",
       "892    47900  Washington-Arlington-Alexandria, DC-VA-MD-WV  2012     5878942   \n",
       "893    47900  Washington-Arlington-Alexandria, DC-VA-MD-WV  2013     5963312   \n",
       "894    47900  Washington-Arlington-Alexandria, DC-VA-MD-WV  2014     6031945   \n",
       "895    47900  Washington-Arlington-Alexandria, DC-VA-MD-WV  2015     6093950   \n",
       "896    47900  Washington-Arlington-Alexandria, DC-VA-MD-WV  2016     6149301   \n",
       "897    47900  Washington-Arlington-Alexandria, DC-VA-MD-WV  2017     6211341   \n",
       "898    47900  Washington-Arlington-Alexandria, DC-VA-MD-WV  2018     6247841   \n",
       "899    47900  Washington-Arlington-Alexandria, DC-VA-MD-WV  2019     6280487   \n",
       "\n",
       "     Personal Income  Number Jobs         HPI  \n",
       "0           14987764      1038096   27.319167  \n",
       "1           16344005      1040323   29.631667  \n",
       "2           17827450      1068371   32.359167  \n",
       "3           19889912      1108082   35.471667  \n",
       "4           21951910      1139209   39.037500  \n",
       "5           24628751      1139485   42.396667  \n",
       "6           27264037      1146005   46.295833  \n",
       "7           29340768      1137050   47.218333  \n",
       "8           31328742      1164025   48.172500  \n",
       "9           34416475      1202935   50.990833  \n",
       "10          37069457      1243523   53.810833  \n",
       "11          39775035      1276452   58.530833  \n",
       "12          42482919      1332191   65.566667  \n",
       "13          46438466      1366737   72.252500  \n",
       "14          49698479      1393176   77.875000  \n",
       "15          52649611      1404128   81.229167  \n",
       "16          54612636      1358484   81.630833  \n",
       "17          57198936      1339950   82.774167  \n",
       "18          59178785      1347488   82.753333  \n",
       "19          61769826      1371332   83.755000  \n",
       "20          64703504      1394314   83.931667  \n",
       "21          67881395      1409343   84.640833  \n",
       "22          71926659      1436116   85.388333  \n",
       "23          77241641      1466512   87.319167  \n",
       "24          82273178      1509853   91.810833  \n",
       "25          88618199      1543762   97.520000  \n",
       "26          92560218      1547690  105.058333  \n",
       "27          96206347      1558796  116.961667  \n",
       "28         100100963      1566963  134.725833  \n",
       "29         106048601      1593882  158.941667  \n",
       "..               ...          ...         ...  \n",
       "870        112768865      2934616   82.217500  \n",
       "871        117703642      2868521   80.735000  \n",
       "872        124720236      2855896   80.882500  \n",
       "873        131072174      2902152   79.811667  \n",
       "874        137637871      2938404   79.730000  \n",
       "875        143850261      2989498   79.155000  \n",
       "876        151016723      3035499   79.269167  \n",
       "877        160522338      3103078   79.620833  \n",
       "878        173953749      3176675   81.703333  \n",
       "879        188134142      3262572   87.185833  \n",
       "880        207537811      3409145   95.464167  \n",
       "881        218153023      3471970  108.140833  \n",
       "882        224073510      3508592  124.315833  \n",
       "883        235840071      3562232  143.335833  \n",
       "884        254762790      3659629  171.719167  \n",
       "885        272956715      3745027  206.911667  \n",
       "886        289483718      3810723  216.110833  \n",
       "887        303577818      3884536  206.617500  \n",
       "888        316569272      3901443  180.875000  \n",
       "889        314209360      3861064  166.801667  \n",
       "890        331670527      3878945  168.771667  \n",
       "891        355350372      3946247  167.835000  \n",
       "892        369822854      3996916  173.290833  \n",
       "893        365630308      4052929  187.081667  \n",
       "894        381692068      4106510  194.855000  \n",
       "895        401961093      4198656  199.260833  \n",
       "896        417860186      4287414  204.721667  \n",
       "897        432801229      4350846  212.416667  \n",
       "898        451967783      4434939  220.210000  \n",
       "899        467176430      4518171  227.227500  \n",
       "\n",
       "[900 rows x 7 columns]"
      ],
      "text/html": "<div>\n<style scoped>\n    .dataframe tbody tr th:only-of-type {\n        vertical-align: middle;\n    }\n\n    .dataframe tbody tr th {\n        vertical-align: top;\n    }\n\n    .dataframe thead th {\n        text-align: right;\n    }\n</style>\n<table border=\"1\" class=\"dataframe\">\n  <thead>\n    <tr style=\"text-align: right;\">\n      <th></th>\n      <th>GeoFips</th>\n      <th>MSA</th>\n      <th>Year</th>\n      <th>Population</th>\n      <th>Personal Income</th>\n      <th>Number Jobs</th>\n      <th>HPI</th>\n    </tr>\n  </thead>\n  <tbody>\n    <tr>\n      <th>0</th>\n      <td>12580</td>\n      <td>Baltimore-Columbia-Towson, MD</td>\n      <td>1975</td>\n      <td>2184332</td>\n      <td>14987764</td>\n      <td>1038096</td>\n      <td>27.319167</td>\n    </tr>\n    <tr>\n      <th>1</th>\n      <td>12580</td>\n      <td>Baltimore-Columbia-Towson, MD</td>\n      <td>1976</td>\n      <td>2188964</td>\n      <td>16344005</td>\n      <td>1040323</td>\n      <td>29.631667</td>\n    </tr>\n    <tr>\n      <th>2</th>\n      <td>12580</td>\n      <td>Baltimore-Columbia-Towson, MD</td>\n      <td>1977</td>\n      <td>2201877</td>\n      <td>17827450</td>\n      <td>1068371</td>\n      <td>32.359167</td>\n    </tr>\n    <tr>\n      <th>3</th>\n      <td>12580</td>\n      <td>Baltimore-Columbia-Towson, MD</td>\n      <td>1978</td>\n      <td>2204362</td>\n      <td>19889912</td>\n      <td>1108082</td>\n      <td>35.471667</td>\n    </tr>\n    <tr>\n      <th>4</th>\n      <td>12580</td>\n      <td>Baltimore-Columbia-Towson, MD</td>\n      <td>1979</td>\n      <td>2209160</td>\n      <td>21951910</td>\n      <td>1139209</td>\n      <td>39.037500</td>\n    </tr>\n    <tr>\n      <th>5</th>\n      <td>12580</td>\n      <td>Baltimore-Columbia-Towson, MD</td>\n      <td>1980</td>\n      <td>2203385</td>\n      <td>24628751</td>\n      <td>1139485</td>\n      <td>42.396667</td>\n    </tr>\n    <tr>\n      <th>6</th>\n      <td>12580</td>\n      <td>Baltimore-Columbia-Towson, MD</td>\n      <td>1981</td>\n      <td>2214413</td>\n      <td>27264037</td>\n      <td>1146005</td>\n      <td>46.295833</td>\n    </tr>\n    <tr>\n      <th>7</th>\n      <td>12580</td>\n      <td>Baltimore-Columbia-Towson, MD</td>\n      <td>1982</td>\n      <td>2220748</td>\n      <td>29340768</td>\n      <td>1137050</td>\n      <td>47.218333</td>\n    </tr>\n    <tr>\n      <th>8</th>\n      <td>12580</td>\n      <td>Baltimore-Columbia-Towson, MD</td>\n      <td>1983</td>\n      <td>2228439</td>\n      <td>31328742</td>\n      <td>1164025</td>\n      <td>48.172500</td>\n    </tr>\n    <tr>\n      <th>9</th>\n      <td>12580</td>\n      <td>Baltimore-Columbia-Towson, MD</td>\n      <td>1984</td>\n      <td>2244735</td>\n      <td>34416475</td>\n      <td>1202935</td>\n      <td>50.990833</td>\n    </tr>\n    <tr>\n      <th>10</th>\n      <td>12580</td>\n      <td>Baltimore-Columbia-Towson, MD</td>\n      <td>1985</td>\n      <td>2255970</td>\n      <td>37069457</td>\n      <td>1243523</td>\n      <td>53.810833</td>\n    </tr>\n    <tr>\n      <th>11</th>\n      <td>12580</td>\n      <td>Baltimore-Columbia-Towson, MD</td>\n      <td>1986</td>\n      <td>2285633</td>\n      <td>39775035</td>\n      <td>1276452</td>\n      <td>58.530833</td>\n    </tr>\n    <tr>\n      <th>12</th>\n      <td>12580</td>\n      <td>Baltimore-Columbia-Towson, MD</td>\n      <td>1987</td>\n      <td>2309719</td>\n      <td>42482919</td>\n      <td>1332191</td>\n      <td>65.566667</td>\n    </tr>\n    <tr>\n      <th>13</th>\n      <td>12580</td>\n      <td>Baltimore-Columbia-Towson, MD</td>\n      <td>1988</td>\n      <td>2340870</td>\n      <td>46438466</td>\n      <td>1366737</td>\n      <td>72.252500</td>\n    </tr>\n    <tr>\n      <th>14</th>\n      <td>12580</td>\n      <td>Baltimore-Columbia-Towson, MD</td>\n      <td>1989</td>\n      <td>2360610</td>\n      <td>49698479</td>\n      <td>1393176</td>\n      <td>77.875000</td>\n    </tr>\n    <tr>\n      <th>15</th>\n      <td>12580</td>\n      <td>Baltimore-Columbia-Towson, MD</td>\n      <td>1990</td>\n      <td>2390543</td>\n      <td>52649611</td>\n      <td>1404128</td>\n      <td>81.229167</td>\n    </tr>\n    <tr>\n      <th>16</th>\n      <td>12580</td>\n      <td>Baltimore-Columbia-Towson, MD</td>\n      <td>1991</td>\n      <td>2418136</td>\n      <td>54612636</td>\n      <td>1358484</td>\n      <td>81.630833</td>\n    </tr>\n    <tr>\n      <th>17</th>\n      <td>12580</td>\n      <td>Baltimore-Columbia-Towson, MD</td>\n      <td>1992</td>\n      <td>2440078</td>\n      <td>57198936</td>\n      <td>1339950</td>\n      <td>82.774167</td>\n    </tr>\n    <tr>\n      <th>18</th>\n      <td>12580</td>\n      <td>Baltimore-Columbia-Towson, MD</td>\n      <td>1993</td>\n      <td>2458038</td>\n      <td>59178785</td>\n      <td>1347488</td>\n      <td>82.753333</td>\n    </tr>\n    <tr>\n      <th>19</th>\n      <td>12580</td>\n      <td>Baltimore-Columbia-Towson, MD</td>\n      <td>1994</td>\n      <td>2475364</td>\n      <td>61769826</td>\n      <td>1371332</td>\n      <td>83.755000</td>\n    </tr>\n    <tr>\n      <th>20</th>\n      <td>12580</td>\n      <td>Baltimore-Columbia-Towson, MD</td>\n      <td>1995</td>\n      <td>2490370</td>\n      <td>64703504</td>\n      <td>1394314</td>\n      <td>83.931667</td>\n    </tr>\n    <tr>\n      <th>21</th>\n      <td>12580</td>\n      <td>Baltimore-Columbia-Towson, MD</td>\n      <td>1996</td>\n      <td>2501453</td>\n      <td>67881395</td>\n      <td>1409343</td>\n      <td>84.640833</td>\n    </tr>\n    <tr>\n      <th>22</th>\n      <td>12580</td>\n      <td>Baltimore-Columbia-Towson, MD</td>\n      <td>1997</td>\n      <td>2513492</td>\n      <td>71926659</td>\n      <td>1436116</td>\n      <td>85.388333</td>\n    </tr>\n    <tr>\n      <th>23</th>\n      <td>12580</td>\n      <td>Baltimore-Columbia-Towson, MD</td>\n      <td>1998</td>\n      <td>2525266</td>\n      <td>77241641</td>\n      <td>1466512</td>\n      <td>87.319167</td>\n    </tr>\n    <tr>\n      <th>24</th>\n      <td>12580</td>\n      <td>Baltimore-Columbia-Towson, MD</td>\n      <td>1999</td>\n      <td>2540307</td>\n      <td>82273178</td>\n      <td>1509853</td>\n      <td>91.810833</td>\n    </tr>\n    <tr>\n      <th>25</th>\n      <td>12580</td>\n      <td>Baltimore-Columbia-Towson, MD</td>\n      <td>2000</td>\n      <td>2557958</td>\n      <td>88618199</td>\n      <td>1543762</td>\n      <td>97.520000</td>\n    </tr>\n    <tr>\n      <th>26</th>\n      <td>12580</td>\n      <td>Baltimore-Columbia-Towson, MD</td>\n      <td>2001</td>\n      <td>2575471</td>\n      <td>92560218</td>\n      <td>1547690</td>\n      <td>105.058333</td>\n    </tr>\n    <tr>\n      <th>27</th>\n      <td>12580</td>\n      <td>Baltimore-Columbia-Towson, MD</td>\n      <td>2002</td>\n      <td>2596501</td>\n      <td>96206347</td>\n      <td>1558796</td>\n      <td>116.961667</td>\n    </tr>\n    <tr>\n      <th>28</th>\n      <td>12580</td>\n      <td>Baltimore-Columbia-Towson, MD</td>\n      <td>2003</td>\n      <td>2614232</td>\n      <td>100100963</td>\n      <td>1566963</td>\n      <td>134.725833</td>\n    </tr>\n    <tr>\n      <th>29</th>\n      <td>12580</td>\n      <td>Baltimore-Columbia-Towson, MD</td>\n      <td>2004</td>\n      <td>2630946</td>\n      <td>106048601</td>\n      <td>1593882</td>\n      <td>158.941667</td>\n    </tr>\n    <tr>\n      <th>...</th>\n      <td>...</td>\n      <td>...</td>\n      <td>...</td>\n      <td>...</td>\n      <td>...</td>\n      <td>...</td>\n      <td>...</td>\n    </tr>\n    <tr>\n      <th>870</th>\n      <td>47900</td>\n      <td>Washington-Arlington-Alexandria, DC-VA-MD-WV</td>\n      <td>1990</td>\n      <td>4185342</td>\n      <td>112768865</td>\n      <td>2934616</td>\n      <td>82.217500</td>\n    </tr>\n    <tr>\n      <th>871</th>\n      <td>47900</td>\n      <td>Washington-Arlington-Alexandria, DC-VA-MD-WV</td>\n      <td>1991</td>\n      <td>4247235</td>\n      <td>117703642</td>\n      <td>2868521</td>\n      <td>80.735000</td>\n    </tr>\n    <tr>\n      <th>872</th>\n      <td>47900</td>\n      <td>Washington-Arlington-Alexandria, DC-VA-MD-WV</td>\n      <td>1992</td>\n      <td>4312067</td>\n      <td>124720236</td>\n      <td>2855896</td>\n      <td>80.882500</td>\n    </tr>\n    <tr>\n      <th>873</th>\n      <td>47900</td>\n      <td>Washington-Arlington-Alexandria, DC-VA-MD-WV</td>\n      <td>1993</td>\n      <td>4374165</td>\n      <td>131072174</td>\n      <td>2902152</td>\n      <td>79.811667</td>\n    </tr>\n    <tr>\n      <th>874</th>\n      <td>47900</td>\n      <td>Washington-Arlington-Alexandria, DC-VA-MD-WV</td>\n      <td>1994</td>\n      <td>4434176</td>\n      <td>137637871</td>\n      <td>2938404</td>\n      <td>79.730000</td>\n    </tr>\n    <tr>\n      <th>875</th>\n      <td>47900</td>\n      <td>Washington-Arlington-Alexandria, DC-VA-MD-WV</td>\n      <td>1995</td>\n      <td>4488385</td>\n      <td>143850261</td>\n      <td>2989498</td>\n      <td>79.155000</td>\n    </tr>\n    <tr>\n      <th>876</th>\n      <td>47900</td>\n      <td>Washington-Arlington-Alexandria, DC-VA-MD-WV</td>\n      <td>1996</td>\n      <td>4549151</td>\n      <td>151016723</td>\n      <td>3035499</td>\n      <td>79.269167</td>\n    </tr>\n    <tr>\n      <th>877</th>\n      <td>47900</td>\n      <td>Washington-Arlington-Alexandria, DC-VA-MD-WV</td>\n      <td>1997</td>\n      <td>4614434</td>\n      <td>160522338</td>\n      <td>3103078</td>\n      <td>79.620833</td>\n    </tr>\n    <tr>\n      <th>878</th>\n      <td>47900</td>\n      <td>Washington-Arlington-Alexandria, DC-VA-MD-WV</td>\n      <td>1998</td>\n      <td>4684826</td>\n      <td>173953749</td>\n      <td>3176675</td>\n      <td>81.703333</td>\n    </tr>\n    <tr>\n      <th>879</th>\n      <td>47900</td>\n      <td>Washington-Arlington-Alexandria, DC-VA-MD-WV</td>\n      <td>1999</td>\n      <td>4776083</td>\n      <td>188134142</td>\n      <td>3262572</td>\n      <td>87.185833</td>\n    </tr>\n    <tr>\n      <th>880</th>\n      <td>47900</td>\n      <td>Washington-Arlington-Alexandria, DC-VA-MD-WV</td>\n      <td>2000</td>\n      <td>4875923</td>\n      <td>207537811</td>\n      <td>3409145</td>\n      <td>95.464167</td>\n    </tr>\n    <tr>\n      <th>881</th>\n      <td>47900</td>\n      <td>Washington-Arlington-Alexandria, DC-VA-MD-WV</td>\n      <td>2001</td>\n      <td>4982993</td>\n      <td>218153023</td>\n      <td>3471970</td>\n      <td>108.140833</td>\n    </tr>\n    <tr>\n      <th>882</th>\n      <td>47900</td>\n      <td>Washington-Arlington-Alexandria, DC-VA-MD-WV</td>\n      <td>2002</td>\n      <td>5068667</td>\n      <td>224073510</td>\n      <td>3508592</td>\n      <td>124.315833</td>\n    </tr>\n    <tr>\n      <th>883</th>\n      <td>47900</td>\n      <td>Washington-Arlington-Alexandria, DC-VA-MD-WV</td>\n      <td>2003</td>\n      <td>5137498</td>\n      <td>235840071</td>\n      <td>3562232</td>\n      <td>143.335833</td>\n    </tr>\n    <tr>\n      <th>884</th>\n      <td>47900</td>\n      <td>Washington-Arlington-Alexandria, DC-VA-MD-WV</td>\n      <td>2004</td>\n      <td>5212772</td>\n      <td>254762790</td>\n      <td>3659629</td>\n      <td>171.719167</td>\n    </tr>\n    <tr>\n      <th>885</th>\n      <td>47900</td>\n      <td>Washington-Arlington-Alexandria, DC-VA-MD-WV</td>\n      <td>2005</td>\n      <td>5286683</td>\n      <td>272956715</td>\n      <td>3745027</td>\n      <td>206.911667</td>\n    </tr>\n    <tr>\n      <th>886</th>\n      <td>47900</td>\n      <td>Washington-Arlington-Alexandria, DC-VA-MD-WV</td>\n      <td>2006</td>\n      <td>5332180</td>\n      <td>289483718</td>\n      <td>3810723</td>\n      <td>216.110833</td>\n    </tr>\n    <tr>\n      <th>887</th>\n      <td>47900</td>\n      <td>Washington-Arlington-Alexandria, DC-VA-MD-WV</td>\n      <td>2007</td>\n      <td>5386334</td>\n      <td>303577818</td>\n      <td>3884536</td>\n      <td>206.617500</td>\n    </tr>\n    <tr>\n      <th>888</th>\n      <td>47900</td>\n      <td>Washington-Arlington-Alexandria, DC-VA-MD-WV</td>\n      <td>2008</td>\n      <td>5458415</td>\n      <td>316569272</td>\n      <td>3901443</td>\n      <td>180.875000</td>\n    </tr>\n    <tr>\n      <th>889</th>\n      <td>47900</td>\n      <td>Washington-Arlington-Alexandria, DC-VA-MD-WV</td>\n      <td>2009</td>\n      <td>5561253</td>\n      <td>314209360</td>\n      <td>3861064</td>\n      <td>166.801667</td>\n    </tr>\n    <tr>\n      <th>890</th>\n      <td>47900</td>\n      <td>Washington-Arlington-Alexandria, DC-VA-MD-WV</td>\n      <td>2010</td>\n      <td>5678491</td>\n      <td>331670527</td>\n      <td>3878945</td>\n      <td>168.771667</td>\n    </tr>\n    <tr>\n      <th>891</th>\n      <td>47900</td>\n      <td>Washington-Arlington-Alexandria, DC-VA-MD-WV</td>\n      <td>2011</td>\n      <td>5782319</td>\n      <td>355350372</td>\n      <td>3946247</td>\n      <td>167.835000</td>\n    </tr>\n    <tr>\n      <th>892</th>\n      <td>47900</td>\n      <td>Washington-Arlington-Alexandria, DC-VA-MD-WV</td>\n      <td>2012</td>\n      <td>5878942</td>\n      <td>369822854</td>\n      <td>3996916</td>\n      <td>173.290833</td>\n    </tr>\n    <tr>\n      <th>893</th>\n      <td>47900</td>\n      <td>Washington-Arlington-Alexandria, DC-VA-MD-WV</td>\n      <td>2013</td>\n      <td>5963312</td>\n      <td>365630308</td>\n      <td>4052929</td>\n      <td>187.081667</td>\n    </tr>\n    <tr>\n      <th>894</th>\n      <td>47900</td>\n      <td>Washington-Arlington-Alexandria, DC-VA-MD-WV</td>\n      <td>2014</td>\n      <td>6031945</td>\n      <td>381692068</td>\n      <td>4106510</td>\n      <td>194.855000</td>\n    </tr>\n    <tr>\n      <th>895</th>\n      <td>47900</td>\n      <td>Washington-Arlington-Alexandria, DC-VA-MD-WV</td>\n      <td>2015</td>\n      <td>6093950</td>\n      <td>401961093</td>\n      <td>4198656</td>\n      <td>199.260833</td>\n    </tr>\n    <tr>\n      <th>896</th>\n      <td>47900</td>\n      <td>Washington-Arlington-Alexandria, DC-VA-MD-WV</td>\n      <td>2016</td>\n      <td>6149301</td>\n      <td>417860186</td>\n      <td>4287414</td>\n      <td>204.721667</td>\n    </tr>\n    <tr>\n      <th>897</th>\n      <td>47900</td>\n      <td>Washington-Arlington-Alexandria, DC-VA-MD-WV</td>\n      <td>2017</td>\n      <td>6211341</td>\n      <td>432801229</td>\n      <td>4350846</td>\n      <td>212.416667</td>\n    </tr>\n    <tr>\n      <th>898</th>\n      <td>47900</td>\n      <td>Washington-Arlington-Alexandria, DC-VA-MD-WV</td>\n      <td>2018</td>\n      <td>6247841</td>\n      <td>451967783</td>\n      <td>4434939</td>\n      <td>220.210000</td>\n    </tr>\n    <tr>\n      <th>899</th>\n      <td>47900</td>\n      <td>Washington-Arlington-Alexandria, DC-VA-MD-WV</td>\n      <td>2019</td>\n      <td>6280487</td>\n      <td>467176430</td>\n      <td>4518171</td>\n      <td>227.227500</td>\n    </tr>\n  </tbody>\n</table>\n<p>900 rows × 7 columns</p>\n</div>"
     },
     "metadata": {},
     "execution_count": 26
    }
   ],
   "source": [
    "top20_full"
   ]
  },
  {
   "cell_type": "code",
   "execution_count": 28,
   "metadata": {},
   "outputs": [],
   "source": [
    "top20_full.to_csv('clean_data/top20_1975_2019.csv', index=False, header=True)"
   ]
  },
  {
   "cell_type": "code",
   "execution_count": null,
   "metadata": {},
   "outputs": [],
   "source": []
  },
  {
   "cell_type": "code",
   "execution_count": 29,
   "metadata": {},
   "outputs": [
    {
     "output_type": "execute_result",
     "data": {
      "text/plain": [
       "                           MSA        Year    HPI\n",
       "0                  Abilene, TX  1975-01-31  45.34\n",
       "1                    Akron, OH  1975-01-31  29.38\n",
       "2                   Albany, GA  1975-01-31  41.53\n",
       "3                   Albany, OR  1975-01-31  19.67\n",
       "4  Albany-Schenectady-Troy, NY  1975-01-31  36.58"
      ],
      "text/html": "<div>\n<style scoped>\n    .dataframe tbody tr th:only-of-type {\n        vertical-align: middle;\n    }\n\n    .dataframe tbody tr th {\n        vertical-align: top;\n    }\n\n    .dataframe thead th {\n        text-align: right;\n    }\n</style>\n<table border=\"1\" class=\"dataframe\">\n  <thead>\n    <tr style=\"text-align: right;\">\n      <th></th>\n      <th>MSA</th>\n      <th>Year</th>\n      <th>HPI</th>\n    </tr>\n  </thead>\n  <tbody>\n    <tr>\n      <th>0</th>\n      <td>Abilene, TX</td>\n      <td>1975-01-31</td>\n      <td>45.34</td>\n    </tr>\n    <tr>\n      <th>1</th>\n      <td>Akron, OH</td>\n      <td>1975-01-31</td>\n      <td>29.38</td>\n    </tr>\n    <tr>\n      <th>2</th>\n      <td>Albany, GA</td>\n      <td>1975-01-31</td>\n      <td>41.53</td>\n    </tr>\n    <tr>\n      <th>3</th>\n      <td>Albany, OR</td>\n      <td>1975-01-31</td>\n      <td>19.67</td>\n    </tr>\n    <tr>\n      <th>4</th>\n      <td>Albany-Schenectady-Troy, NY</td>\n      <td>1975-01-31</td>\n      <td>36.58</td>\n    </tr>\n  </tbody>\n</table>\n</div>"
     },
     "metadata": {},
     "execution_count": 29
    }
   ],
   "source": [
    "# bring in full monthly HPI dataset from 1975 to 2020\n",
    "csv5 = Path('clean_data/HPI_monthly_full.csv')\n",
    "df5 = pd.read_csv(csv5)\n",
    "df5.head()"
   ]
  },
  {
   "cell_type": "code",
   "execution_count": 30,
   "metadata": {},
   "outputs": [],
   "source": [
    "# merge top 20 MSAs with HPI monthly data to get HPI data for only top 20 MSAs\n",
    "top20_monthly = df5.merge(MSAs, on=\"MSA\", how='inner')"
   ]
  },
  {
   "cell_type": "code",
   "execution_count": 32,
   "metadata": {},
   "outputs": [
    {
     "output_type": "execute_result",
     "data": {
      "text/plain": [
       "                             MSA        Year    HPI\n",
       "0  Baltimore-Columbia-Towson, MD  1975-01-31  26.81\n",
       "1  Baltimore-Columbia-Towson, MD  1975-02-28  26.79\n",
       "2  Baltimore-Columbia-Towson, MD  1975-03-31  26.77\n",
       "3  Baltimore-Columbia-Towson, MD  1975-04-30  26.78\n",
       "4  Baltimore-Columbia-Towson, MD  1975-05-31  26.85"
      ],
      "text/html": "<div>\n<style scoped>\n    .dataframe tbody tr th:only-of-type {\n        vertical-align: middle;\n    }\n\n    .dataframe tbody tr th {\n        vertical-align: top;\n    }\n\n    .dataframe thead th {\n        text-align: right;\n    }\n</style>\n<table border=\"1\" class=\"dataframe\">\n  <thead>\n    <tr style=\"text-align: right;\">\n      <th></th>\n      <th>MSA</th>\n      <th>Year</th>\n      <th>HPI</th>\n    </tr>\n  </thead>\n  <tbody>\n    <tr>\n      <th>0</th>\n      <td>Baltimore-Columbia-Towson, MD</td>\n      <td>1975-01-31</td>\n      <td>26.81</td>\n    </tr>\n    <tr>\n      <th>1</th>\n      <td>Baltimore-Columbia-Towson, MD</td>\n      <td>1975-02-28</td>\n      <td>26.79</td>\n    </tr>\n    <tr>\n      <th>2</th>\n      <td>Baltimore-Columbia-Towson, MD</td>\n      <td>1975-03-31</td>\n      <td>26.77</td>\n    </tr>\n    <tr>\n      <th>3</th>\n      <td>Baltimore-Columbia-Towson, MD</td>\n      <td>1975-04-30</td>\n      <td>26.78</td>\n    </tr>\n    <tr>\n      <th>4</th>\n      <td>Baltimore-Columbia-Towson, MD</td>\n      <td>1975-05-31</td>\n      <td>26.85</td>\n    </tr>\n  </tbody>\n</table>\n</div>"
     },
     "metadata": {},
     "execution_count": 32
    }
   ],
   "source": [
    "top20_monthly.head()"
   ]
  },
  {
   "cell_type": "code",
   "execution_count": 33,
   "metadata": {},
   "outputs": [],
   "source": [
    "top20_monthly.to_csv('clean_data/top20_hpi_monthly_full.csv', index=False, header=True)"
   ]
  },
  {
   "cell_type": "code",
   "execution_count": null,
   "metadata": {},
   "outputs": [],
   "source": []
  }
 ]
}