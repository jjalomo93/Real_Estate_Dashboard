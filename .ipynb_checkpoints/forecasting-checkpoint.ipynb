{
 "cells": [
  {
   "cell_type": "code",
   "execution_count": null,
   "metadata": {},
   "outputs": [],
   "source": [
    "import pandas as pd\n",
    "import hvplot.pandas\n",
    "import matplotlib.pyplot as plt\n",
    "import numpy as np\n",
    "from pathlib import Path\n",
    "import datetime as dt\n",
    "import statsmodels.api as sm\n",
    "import statsmodels.graphics.tsaplots as sgt\n",
    "import statsmodels.tsa.stattools as sts\n",
    "from statsmodels.tsa.arima_model import ARIMA\n",
    "from statsmodels.tsa.arima_model import ARMA\n",
    "import seaborn as sns\n",
    "import sklearn\n",
    "# from sklearn.linear_model import LinearRegression\n",
    "# from sklearn.metrics import mean_squared_error, r2_score\n",
    "from statsmodels.tsa.seasonal import seasonal_decompose\n",
    "\n",
    "%matplotlib inline\n",
    "import warnings\n",
    "warnings.filterwarnings('ignore')"
   ]
  },
  {
   "cell_type": "markdown",
   "metadata": {},
   "source": [
    "# Import and Clean Data"
   ]
  },
  {
   "cell_type": "code",
   "execution_count": null,
   "metadata": {},
   "outputs": [],
   "source": [
    "# import the cleaned HPI csv data and assign to a dataframe with date as index\n",
    "csv = Path(\"clean_data/top20_hpi_monthly_full.csv\")\n",
    "df = pd.read_csv(csv)\n",
    "df.head()"
   ]
  },
  {
   "cell_type": "code",
   "execution_count": null,
   "metadata": {},
   "outputs": [],
   "source": [
    "# convert year column into datetime format\n",
    "df['Year'] = pd.to_datetime(df['Year'])\n",
    "df.head()"
   ]
  },
  {
   "cell_type": "code",
   "execution_count": null,
   "metadata": {},
   "outputs": [],
   "source": [
    "# set index as date column\n",
    "df.index = df['Year']\n",
    "df.drop(columns='Year')"
   ]
  },
  {
   "cell_type": "code",
   "execution_count": null,
   "metadata": {},
   "outputs": [],
   "source": [
    "# check for nulls in data\n",
    "df.info()"
   ]
  },
  {
   "cell_type": "markdown",
   "metadata": {},
   "source": [
    "# Splice Data for Top 5 MSA"
   ]
  },
  {
   "cell_type": "code",
   "execution_count": null,
   "metadata": {},
   "outputs": [],
   "source": [
    "# New York\n",
    "df_ny = df.loc[df['MSA']== \"New York-Newark-Jersey City, NY-NJ-PA\"]\n",
    "df_ny.drop(columns='Year',inplace=True)\n",
    "df_ny.head()"
   ]
  },
  {
   "cell_type": "code",
   "execution_count": null,
   "metadata": {},
   "outputs": [],
   "source": [
    "# Los Angeles\n",
    "df_la = df.loc[df['MSA']== \"Los Angeles-Long Beach-Anaheim, CA\"]\n",
    "df_la.drop(columns='Year',inplace=True)\n",
    "df_la.head()"
   ]
  },
  {
   "cell_type": "code",
   "execution_count": null,
   "metadata": {},
   "outputs": [],
   "source": [
    "# Chicago\n",
    "df_chi = df.loc[df['MSA']== \"Chicago-Naperville-Elgin, IL-IN-WI\"]\n",
    "df_chi.drop(columns='Year',inplace=True)\n",
    "df_chi.head()"
   ]
  },
  {
   "cell_type": "code",
   "execution_count": null,
   "metadata": {},
   "outputs": [],
   "source": [
    "# DFW\n",
    "df_dfw = df.loc[df['MSA']== \"Dallas-Fort Worth-Arlington, TX\"]\n",
    "df_dfw.drop(columns='Year',inplace=True)\n",
    "df_dfw.head()"
   ]
  },
  {
   "cell_type": "code",
   "execution_count": null,
   "metadata": {},
   "outputs": [],
   "source": [
    "# Houston\n",
    "df_hou = df.loc[df['MSA']== \"Houston-The Woodlands-Sugar Land, TX\"]\n",
    "df_hou.drop(columns='Year',inplace=True)\n",
    "df_hou.head()"
   ]
  },
  {
   "cell_type": "markdown",
   "metadata": {},
   "source": [
    "# TimeSeries Forecasting"
   ]
  },
  {
   "cell_type": "markdown",
   "metadata": {},
   "source": [
    "## New York"
   ]
  },
  {
   "cell_type": "code",
   "execution_count": null,
   "metadata": {},
   "outputs": [],
   "source": [
    "# Monthly housing price index\n",
    "ts_ny = df_ny['HPI']\n",
    "ts_ny.head()"
   ]
  },
  {
   "cell_type": "code",
   "execution_count": null,
   "metadata": {},
   "outputs": [],
   "source": [
    "# plot trend of HPI\n",
    "plt.plot(ts_ny)"
   ]
  },
  {
   "cell_type": "code",
   "execution_count": null,
   "metadata": {},
   "outputs": [],
   "source": [
    "def test_stationarity(timeseries): # this can be used for all MSA\n",
    "    \n",
    "    #Determing rolling statistics\n",
    "    rolmean = timeseries.rolling(window=12).mean()\n",
    "    rolstd = timeseries.rolling(window=12).std()\n",
    "#Plot rolling statistics:\n",
    "    plt.plot(timeseries, color='blue',label='Original')\n",
    "    plt.plot(rolmean, color='red', label='Rolling Mean')\n",
    "    plt.plot(rolstd, color='black', label = 'Rolling Std')\n",
    "    plt.legend(loc='best')\n",
    "    plt.title('Rolling Mean & Standard Deviation')\n",
    "    plt.show()\n",
    "    #Perform Dickey-Fuller test:\n",
    "    print(\"Results of Dickey-Fuller Test:\")\n",
    "    dftest = sts.adfuller(timeseries, autolag='AIC')\n",
    "    dfoutput = pd.Series(dftest[0:4], index=['Test Statistic','p-value','#Lags Used','Number of Observations Used'])\n",
    "    for key,value in dftest[4].items():\n",
    "        dfoutput['Critical Value (%s)'%key] = value\n",
    "    print(dfoutput)"
   ]
  },
  {
   "cell_type": "code",
   "execution_count": null,
   "metadata": {},
   "outputs": [],
   "source": [
    "test_stationarity(ts_ny) #not stationary because tstat > that critical values and pvalue > 5%"
   ]
  },
  {
   "cell_type": "code",
   "execution_count": null,
   "metadata": {},
   "outputs": [],
   "source": [
    "#take log of time series to reduce trend\n",
    "ts_log_ny = np.log(ts_ny)\n",
    "plt.plot(ts_log_ny)"
   ]
  },
  {
   "cell_type": "code",
   "execution_count": null,
   "metadata": {},
   "outputs": [],
   "source": [
    "#take difference of logged time series to make stationary\n",
    "ts_log_diff_ny = ts_log_ny - ts_log_ny.shift()\n",
    "plt.plot(ts_log_diff_ny)"
   ]
  },
  {
   "cell_type": "code",
   "execution_count": null,
   "metadata": {},
   "outputs": [],
   "source": [
    "# this shows that the ts_log_diff is stationary because tstat < critical values at 5%, and pvalue is < 5%\n",
    "ts_log_diff_ny.dropna(inplace=True)\n",
    "test_stationarity(ts_log_diff_ny)"
   ]
  },
  {
   "cell_type": "code",
   "execution_count": null,
   "metadata": {},
   "outputs": [],
   "source": [
    "#use this to find ACF and PACF\n",
    "sgt.plot_acf(ts_ny_log_diff, lags=20, zero=False)\n",
    "sgt.plot_pacf(ts_ny_log_diff, lags=20, method='ols', zero=False)"
   ]
  },
  {
   "cell_type": "code",
   "execution_count": null,
   "metadata": {},
   "outputs": [],
   "source": [
    "model513_ny = ARIMA(ts_ny_log, order=(5,1,3))\n",
    "results513_ny = model513_ny.fit()\n",
    "plt.plot(ts_ny_log_diff)\n",
    "plt.plot(results513_ny.fittedvalues,color='red')\n",
    "plt.title('RSS: %.4f'% sum((results513_ny.fittedvalues-ts_ny_log_diff)**2))"
   ]
  },
  {
   "cell_type": "code",
   "execution_count": null,
   "metadata": {},
   "outputs": [],
   "source": [
    "results513_ny=model513_ny.fit(disp=0)"
   ]
  },
  {
   "cell_type": "code",
   "execution_count": null,
   "metadata": {},
   "outputs": [],
   "source": [
    "results513_ny.summary() ## best so far"
   ]
  },
  {
   "cell_type": "code",
   "execution_count": null,
   "metadata": {},
   "outputs": [],
   "source": [
    "# bringing things back to the original scale\n",
    "predictions_ARIMA_diff_ny = pd.Series(results513_ny.fittedvalues, copy=True)\n",
    "print(predictions_ARIMA_diff_ny.head())"
   ]
  },
  {
   "cell_type": "code",
   "execution_count": null,
   "metadata": {},
   "outputs": [],
   "source": [
    "predictions_ARIMA_diff_cumsum_ny = predictions_ARIMA_diff_ny.cumsum()\n",
    "print(predictions_ARIMA_diff_cumsum_ny.head())"
   ]
  },
  {
   "cell_type": "code",
   "execution_count": null,
   "metadata": {},
   "outputs": [],
   "source": [
    "predictions_ARIMA_log_ny = pd.Series(ts_ny_log.ix[0],index=ts_ny_log.index)\n",
    "predictions_ARIMA_log_ny = predictions_ARIMA_log_ny.add(predictions_ARIMA_diff_cumsum_ny, fill_value=0)\n",
    "predictions_ARIMA_log_ny.head()"
   ]
  },
  {
   "cell_type": "code",
   "execution_count": null,
   "metadata": {},
   "outputs": [],
   "source": [
    "predictions_ARIMA_log_ny.tail()"
   ]
  },
  {
   "cell_type": "code",
   "execution_count": null,
   "metadata": {},
   "outputs": [],
   "source": [
    "predictions_ARIMA_ny = np.exp(predictions_ARIMA_log_ny)\n",
    "plt.plot(ts_ny)\n",
    "plt.plot(predictions_ARIMA_ny)\n",
    "plt.title('RMSE: %.4f'% np.sqrt(sum((predictions_ARIMA_ny-ts_ny)**2)/len(ts_ny)))"
   ]
  },
  {
   "cell_type": "code",
   "execution_count": null,
   "metadata": {},
   "outputs": [],
   "source": [
    "predictions_ARIMA_ny.head()"
   ]
  },
  {
   "cell_type": "code",
   "execution_count": null,
   "metadata": {},
   "outputs": [],
   "source": [
    "xd_ny = results513_ny.forecast(steps=18)[0]\n",
    "xd_ny"
   ]
  },
  {
   "cell_type": "code",
   "execution_count": null,
   "metadata": {},
   "outputs": [],
   "source": [
    "xd_ny = pd.Series(xd_ny)"
   ]
  },
  {
   "cell_type": "code",
   "execution_count": null,
   "metadata": {},
   "outputs": [],
   "source": [
    "xd_ny = pd.DataFrame(xd_ny)"
   ]
  },
  {
   "cell_type": "code",
   "execution_count": null,
   "metadata": {},
   "outputs": [],
   "source": [
    "xd_ny['Year'] = pd.date_range(start='1/2021', periods=18, freq='M')\n",
    "xd_ny.rename(columns={0:'HPI'},inplace=True)\n",
    "xd_ny.set_index('Year', inplace=True)\n",
    "xd_ny"
   ]
  },
  {
   "cell_type": "code",
   "execution_count": null,
   "metadata": {},
   "outputs": [],
   "source": [
    "fcast_ny = np.exp(xd_ny)\n",
    "fcast_ny"
   ]
  },
  {
   "cell_type": "code",
   "execution_count": null,
   "metadata": {},
   "outputs": [],
   "source": [
    "df_ny.tail()"
   ]
  },
  {
   "cell_type": "code",
   "execution_count": null,
   "metadata": {},
   "outputs": [],
   "source": [
    "plt.figure(figsize=(12,8))\n",
    "plt.plot(ts_ny)\n",
    "plt.plot(fcast_ny)\n",
    "plt.legend(['HPI', 'HPI Forecast'])\n",
    "plt.title('New York-Newark-Jersey City, NY-NJ-PA', size=15)\n",
    "plt.show()"
   ]
  },
  {
   "cell_type": "markdown",
   "metadata": {},
   "source": [
    "______________________________________________"
   ]
  },
  {
   "cell_type": "markdown",
   "metadata": {},
   "source": [
    "## Los Angeles"
   ]
  },
  {
   "cell_type": "code",
   "execution_count": null,
   "metadata": {},
   "outputs": [],
   "source": [
    "ts_la = df_la['HPI']\n",
    "ts_la.head()"
   ]
  },
  {
   "cell_type": "code",
   "execution_count": null,
   "metadata": {},
   "outputs": [],
   "source": [
    "plt.plot(ts_la)"
   ]
  },
  {
   "cell_type": "code",
   "execution_count": null,
   "metadata": {},
   "outputs": [],
   "source": [
    "test_stationarity(ts_la) #not stationary because tstat > that critical values and pvalue > 5%"
   ]
  },
  {
   "cell_type": "code",
   "execution_count": null,
   "metadata": {},
   "outputs": [],
   "source": [
    "#take log of time series to reduce trend\n",
    "ts_la_log = np.log(ts_la)\n",
    "plt.plot(ts_la_log)"
   ]
  },
  {
   "cell_type": "code",
   "execution_count": null,
   "metadata": {},
   "outputs": [],
   "source": [
    "#take difference of logged time series to make stationary\n",
    "ts_la_log_diff = ts_la_log - ts_la_log.shift()\n",
    "plt.plot(ts_la_log_diff)"
   ]
  },
  {
   "cell_type": "code",
   "execution_count": null,
   "metadata": {},
   "outputs": [],
   "source": [
    "# this shows that the ts2_log_diff is stationary because tstat < critical values at 5%, and pvalue is < 5%\n",
    "ts_la_log_diff.dropna(inplace=True)\n",
    "test_stationarity(ts_la_log_diff)"
   ]
  },
  {
   "cell_type": "code",
   "execution_count": null,
   "metadata": {},
   "outputs": [],
   "source": [
    "#use this to find ACF and PACF\n",
    "sgt.plot_acf(ts_la_log_diff, lags=20, zero=False)\n",
    "sgt.plot_pacf(ts_la_log_diff, lags=20, method='ols', zero=False)"
   ]
  },
  {
   "cell_type": "code",
   "execution_count": null,
   "metadata": {},
   "outputs": [],
   "source": [
    "model513_la = ARIMA(ts_la_log, order=(5,1,3))\n",
    "results513_la = model513_la.fit()\n",
    "plt.plot(ts_la_log_diff)\n",
    "plt.plot(results513_la.fittedvalues,color='red')\n",
    "plt.title('RSS: %.4f'% sum((results513_la.fittedvalues-ts_la_log_diff)**2))"
   ]
  },
  {
   "cell_type": "code",
   "execution_count": null,
   "metadata": {},
   "outputs": [],
   "source": [
    "results513_la.summary() ## best so far"
   ]
  },
  {
   "cell_type": "code",
   "execution_count": null,
   "metadata": {},
   "outputs": [],
   "source": [
    "# bringing things back to the original scale\n",
    "predictions_ARIMA_diff_la = pd.Series(results513_la.fittedvalues, copy=True)\n",
    "print(predictions_ARIMA_diff_la.head())"
   ]
  },
  {
   "cell_type": "code",
   "execution_count": null,
   "metadata": {},
   "outputs": [],
   "source": [
    "predictions_ARIMA_diff_cumsum_la = predictions_ARIMA_diff_la.cumsum()\n",
    "print(predictions_ARIMA_diff_cumsum_la.head())"
   ]
  },
  {
   "cell_type": "code",
   "execution_count": null,
   "metadata": {},
   "outputs": [],
   "source": [
    "predictions_ARIMA_log_la = pd.Series(ts_la_log.ix[0],index=ts_la_log.index)\n",
    "predictions_ARIMA_log_la = predictions_ARIMA_log_la.add(predictions_ARIMA_diff_cumsum_la, fill_value=0)\n",
    "predictions_ARIMA_log_la.head()"
   ]
  },
  {
   "cell_type": "code",
   "execution_count": null,
   "metadata": {},
   "outputs": [],
   "source": [
    "predictions_ARIMA_log_la.tail()"
   ]
  },
  {
   "cell_type": "code",
   "execution_count": null,
   "metadata": {},
   "outputs": [],
   "source": [
    "predictions_ARIMA_la = np.exp(predictions_ARIMA_log_la)\n",
    "plt.plot(ts_la)\n",
    "plt.plot(predictions_ARIMA_la)\n",
    "plt.title('RMSE: %.4f'% np.sqrt(sum((predictions_ARIMA_la-ts_la)**2)/len(ts_la)))"
   ]
  },
  {
   "cell_type": "code",
   "execution_count": null,
   "metadata": {},
   "outputs": [],
   "source": [
    "predictions_ARIMA_la.head()"
   ]
  },
  {
   "cell_type": "code",
   "execution_count": null,
   "metadata": {},
   "outputs": [],
   "source": [
    "xd_la = results513_la.forecast(steps=18)[0]\n",
    "xd_la"
   ]
  },
  {
   "cell_type": "code",
   "execution_count": null,
   "metadata": {},
   "outputs": [],
   "source": [
    "xd_la = pd.Series(xd_la)"
   ]
  },
  {
   "cell_type": "code",
   "execution_count": null,
   "metadata": {},
   "outputs": [],
   "source": [
    "xd_la = pd.DataFrame(xd_la)"
   ]
  },
  {
   "cell_type": "code",
   "execution_count": null,
   "metadata": {},
   "outputs": [],
   "source": [
    "xd_la['Year'] = pd.date_range(start='1/2021', periods=18, freq='M')\n",
    "xd_la.rename(columns={0:'HPI'},inplace=True)\n",
    "xd_la.set_index('Year', inplace=True)\n",
    "xd_la"
   ]
  },
  {
   "cell_type": "code",
   "execution_count": null,
   "metadata": {},
   "outputs": [],
   "source": [
    "fcast_la = np.exp(xd_la)\n",
    "fcast_la"
   ]
  },
  {
   "cell_type": "code",
   "execution_count": null,
   "metadata": {},
   "outputs": [],
   "source": [
    "df_la.tail()"
   ]
  },
  {
   "cell_type": "code",
   "execution_count": null,
   "metadata": {},
   "outputs": [],
   "source": [
    "plt.figure(figsize=(12,8))\n",
    "plt.plot(ts_la)\n",
    "plt.plot(fcast_la)\n",
    "plt.legend(['HPI', 'HPI Forecast'])\n",
    "plt.title('Los Angeles-Long Beach-Anaheim, CA', size=15)\n",
    "plt.show()"
   ]
  },
  {
   "cell_type": "markdown",
   "metadata": {},
   "source": [
    "---"
   ]
  },
  {
   "cell_type": "markdown",
   "metadata": {},
   "source": [
    "## Chicago"
   ]
  },
  {
   "cell_type": "code",
   "execution_count": null,
   "metadata": {},
   "outputs": [],
   "source": [
    "ts_chi = df_chi['HPI']\n",
    "ts_chi.head()"
   ]
  },
  {
   "cell_type": "code",
   "execution_count": null,
   "metadata": {},
   "outputs": [],
   "source": [
    "plt.plot(ts_chi)"
   ]
  },
  {
   "cell_type": "code",
   "execution_count": null,
   "metadata": {},
   "outputs": [],
   "source": [
    "test_stationarity(ts_chi) #not stationary because tstat > that critical values and pvalue > 5%"
   ]
  },
  {
   "cell_type": "code",
   "execution_count": null,
   "metadata": {},
   "outputs": [],
   "source": [
    "#take log of time series to reduce trend\n",
    "ts_chi_log = np.log(ts_chi)\n",
    "plt.plot(ts_chi_log)"
   ]
  },
  {
   "cell_type": "code",
   "execution_count": null,
   "metadata": {},
   "outputs": [],
   "source": [
    "#take difference of logged time series to make stationary\n",
    "ts_chi_log_diff = ts_chi_log - ts_chi_log.shift()\n",
    "plt.plot(ts_chi_log_diff)"
   ]
  },
  {
   "cell_type": "code",
   "execution_count": null,
   "metadata": {},
   "outputs": [],
   "source": [
    "# this shows that the ts2_log_diff is stationary because tstat < critical values at 5%, and pvalue is < 5%\n",
    "ts_chi_log_diff.dropna(inplace=True)\n",
    "test_stationarity(ts_chi_log_diff)"
   ]
  },
  {
   "cell_type": "code",
   "execution_count": null,
   "metadata": {},
   "outputs": [],
   "source": [
    "#use this to find ACF and PACF\n",
    "sgt.plot_acf(ts_chi_log_diff, lags=20, zero=False)\n",
    "sgt.plot_pacf(ts_chi_log_diff, lags=20, method='ols', zero=False)"
   ]
  },
  {
   "cell_type": "code",
   "execution_count": null,
   "metadata": {},
   "outputs": [],
   "source": [
    "# create 513 model\n",
    "model513_chi = ARIMA(ts_chi_log, order=(5,1,3))\n",
    "results513_chi = model513_chi.fit()\n",
    "plt.plot(ts_chi_log_diff)\n",
    "plt.plot(results513_chi.fittedvalues,color='red')\n",
    "plt.title('RSS: %.4f'% sum((results513_chi.fittedvalues-ts_chi_log_diff)**2))"
   ]
  },
  {
   "cell_type": "code",
   "execution_count": null,
   "metadata": {},
   "outputs": [],
   "source": [
    "results513_chi.summary() ## best so far"
   ]
  },
  {
   "cell_type": "code",
   "execution_count": null,
   "metadata": {},
   "outputs": [],
   "source": [
    "# bringing things back to the original scale\n",
    "predictions_ARIMA_diff_chi = pd.Series(results513_chi.fittedvalues, copy=True)\n",
    "print(predictions_ARIMA_diff_chi.head())"
   ]
  },
  {
   "cell_type": "code",
   "execution_count": null,
   "metadata": {},
   "outputs": [],
   "source": [
    "predictions_ARIMA_diff_cumsum_chi = predictions_ARIMA_diff_chi.cumsum()\n",
    "print(predictions_ARIMA_diff_cumsum_chi.head())"
   ]
  },
  {
   "cell_type": "code",
   "execution_count": null,
   "metadata": {},
   "outputs": [],
   "source": [
    "predictions_ARIMA_log_chi = pd.Series(ts_chi_log.ix[0],index=ts_chi_log.index)\n",
    "predictions_ARIMA_log_chi = predictions_ARIMA_log_chi.add(predictions_ARIMA_diff_cumsum_chi, fill_value=0)\n",
    "predictions_ARIMA_log_chi.head()"
   ]
  },
  {
   "cell_type": "code",
   "execution_count": null,
   "metadata": {},
   "outputs": [],
   "source": [
    "predictions_ARIMA_log_chi.tail()"
   ]
  },
  {
   "cell_type": "code",
   "execution_count": null,
   "metadata": {},
   "outputs": [],
   "source": [
    "predictions_ARIMA_chi = np.exp(predictions_ARIMA_log_chi)\n",
    "plt.plot(ts_chi)\n",
    "plt.plot(predictions_ARIMA_chi)\n",
    "plt.title('RMSE: %.4f'% np.sqrt(sum((predictions_ARIMA_chi-ts_chi)**2)/len(ts_chi)))"
   ]
  },
  {
   "cell_type": "code",
   "execution_count": null,
   "metadata": {},
   "outputs": [],
   "source": [
    "predictions_ARIMA_chi.head()"
   ]
  },
  {
   "cell_type": "code",
   "execution_count": null,
   "metadata": {},
   "outputs": [],
   "source": [
    "xd_chi = results513_chi.forecast(steps=18)[0]\n",
    "xd_chi"
   ]
  },
  {
   "cell_type": "code",
   "execution_count": null,
   "metadata": {},
   "outputs": [],
   "source": [
    "xd_chi = pd.Series(xd_chi)"
   ]
  },
  {
   "cell_type": "code",
   "execution_count": null,
   "metadata": {},
   "outputs": [],
   "source": [
    "xd_chi = pd.DataFrame(xd_chi)"
   ]
  },
  {
   "cell_type": "code",
   "execution_count": null,
   "metadata": {},
   "outputs": [],
   "source": [
    "xd_chi['Year'] = pd.date_range(start='1/2021', periods=18, freq='M')\n",
    "xd_chi.rename(columns={0:'HPI'},inplace=True)\n",
    "xd_chi.set_index('Year', inplace=True)"
   ]
  },
  {
   "cell_type": "code",
   "execution_count": null,
   "metadata": {},
   "outputs": [],
   "source": [
    "fcast_chi = np.exp(xd_chi)\n",
    "fcast_chi"
   ]
  },
  {
   "cell_type": "code",
   "execution_count": null,
   "metadata": {},
   "outputs": [],
   "source": [
    "df_chi.tail()"
   ]
  },
  {
   "cell_type": "code",
   "execution_count": null,
   "metadata": {},
   "outputs": [],
   "source": [
    "plt.figure(figsize=(12,8))\n",
    "plt.plot(ts_chi)\n",
    "plt.plot(fcast_chi)\n",
    "plt.legend(['HPI', 'HPI Forecast'])\n",
    "plt.title('Chicago-Naperville-Elgin, IL-IN-WI', size=15)\n",
    "plt.show()"
   ]
  },
  {
   "cell_type": "markdown",
   "metadata": {},
   "source": [
    "---"
   ]
  },
  {
   "cell_type": "markdown",
   "metadata": {},
   "source": [
    "## DFW"
   ]
  },
  {
   "cell_type": "code",
   "execution_count": null,
   "metadata": {},
   "outputs": [],
   "source": []
  }
 ],
 "metadata": {
  "kernelspec": {
   "display_name": "Python 3",
   "language": "python",
   "name": "python3"
  },
  "language_info": {
   "codemirror_mode": {
    "name": "ipython",
    "version": 3
   },
   "file_extension": ".py",
   "mimetype": "text/x-python",
   "name": "python",
   "nbconvert_exporter": "python",
   "pygments_lexer": "ipython3",
   "version": "3.8.2"
  }
 },
 "nbformat": 4,
 "nbformat_minor": 4
}
