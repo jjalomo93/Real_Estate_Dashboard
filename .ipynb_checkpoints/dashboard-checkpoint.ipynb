{
 "cells": [
  {
   "cell_type": "code",
   "execution_count": 2,
   "id": "49d3211e-a74b-4171-b579-5b7397153495",
   "metadata": {},
   "outputs": [],
   "source": [
    "# imports\n",
    "import panel as pn\n",
    "pn.extension('plotly')\n",
    "import plotly.express as px\n",
    "import pandas as pd\n",
    "import hvplot.pandas\n",
    "import matplotlib.pyplot as plt\n",
    "import os\n",
    "from pathlib import Path\n",
    "from dotenv import load_dotenv\n",
    "from panel.interact import interact"
   ]
  },
  {
   "cell_type": "markdown",
   "id": "07ed0640-3015-441a-9bb4-73de0bccad7a",
   "metadata": {},
   "source": [
    "# Import Data"
   ]
  },
  {
   "cell_type": "code",
   "execution_count": 4,
   "id": "668364d9-89a0-49ca-9a53-6970a17963e9",
   "metadata": {},
   "outputs": [
    {
     "data": {
      "text/html": [
       "<div>\n",
       "<style scoped>\n",
       "    .dataframe tbody tr th:only-of-type {\n",
       "        vertical-align: middle;\n",
       "    }\n",
       "\n",
       "    .dataframe tbody tr th {\n",
       "        vertical-align: top;\n",
       "    }\n",
       "\n",
       "    .dataframe thead th {\n",
       "        text-align: right;\n",
       "    }\n",
       "</style>\n",
       "<table border=\"1\" class=\"dataframe\">\n",
       "  <thead>\n",
       "    <tr style=\"text-align: right;\">\n",
       "      <th></th>\n",
       "      <th>MSA</th>\n",
       "      <th>Population</th>\n",
       "      <th>Personal Income</th>\n",
       "      <th>Number Jobs</th>\n",
       "      <th>HPI</th>\n",
       "      <th>Date</th>\n",
       "    </tr>\n",
       "  </thead>\n",
       "  <tbody>\n",
       "    <tr>\n",
       "      <th>0</th>\n",
       "      <td>Baltimore-Columbia-Towson, MD</td>\n",
       "      <td>2557958</td>\n",
       "      <td>88618199</td>\n",
       "      <td>1543762</td>\n",
       "      <td>97.520000</td>\n",
       "      <td>2000-01-01</td>\n",
       "    </tr>\n",
       "    <tr>\n",
       "      <th>1</th>\n",
       "      <td>Baltimore-Columbia-Towson, MD</td>\n",
       "      <td>2575471</td>\n",
       "      <td>92560218</td>\n",
       "      <td>1547690</td>\n",
       "      <td>105.058333</td>\n",
       "      <td>2001-01-01</td>\n",
       "    </tr>\n",
       "    <tr>\n",
       "      <th>2</th>\n",
       "      <td>Baltimore-Columbia-Towson, MD</td>\n",
       "      <td>2596501</td>\n",
       "      <td>96206347</td>\n",
       "      <td>1558796</td>\n",
       "      <td>116.961667</td>\n",
       "      <td>2002-01-01</td>\n",
       "    </tr>\n",
       "    <tr>\n",
       "      <th>3</th>\n",
       "      <td>Baltimore-Columbia-Towson, MD</td>\n",
       "      <td>2614232</td>\n",
       "      <td>100100963</td>\n",
       "      <td>1566963</td>\n",
       "      <td>134.725833</td>\n",
       "      <td>2003-01-01</td>\n",
       "    </tr>\n",
       "    <tr>\n",
       "      <th>4</th>\n",
       "      <td>Baltimore-Columbia-Towson, MD</td>\n",
       "      <td>2630946</td>\n",
       "      <td>106048601</td>\n",
       "      <td>1593882</td>\n",
       "      <td>158.941667</td>\n",
       "      <td>2004-01-01</td>\n",
       "    </tr>\n",
       "  </tbody>\n",
       "</table>\n",
       "</div>"
      ],
      "text/plain": [
       "                             MSA  Population  Personal Income  Number Jobs  \\\n",
       "0  Baltimore-Columbia-Towson, MD     2557958         88618199      1543762   \n",
       "1  Baltimore-Columbia-Towson, MD     2575471         92560218      1547690   \n",
       "2  Baltimore-Columbia-Towson, MD     2596501         96206347      1558796   \n",
       "3  Baltimore-Columbia-Towson, MD     2614232        100100963      1566963   \n",
       "4  Baltimore-Columbia-Towson, MD     2630946        106048601      1593882   \n",
       "\n",
       "          HPI       Date  \n",
       "0   97.520000 2000-01-01  \n",
       "1  105.058333 2001-01-01  \n",
       "2  116.961667 2002-01-01  \n",
       "3  134.725833 2003-01-01  \n",
       "4  158.941667 2004-01-01  "
      ]
     },
     "execution_count": 4,
     "metadata": {},
     "output_type": "execute_result"
    }
   ],
   "source": [
    "# import total cleaned data\n",
    "data_path = Path(\"clean_data/all_msa_clean_data.csv\")\n",
    "data = pd.read_csv(data_path)\n",
    "data.drop(columns=[\"Unnamed: 0\",\"GeoFips\"],inplace=True)\n",
    "data[\"Date\"] = pd.to_datetime(data[\"Year\"],format=\"%Y\")\n",
    "data.drop(columns=[\"Year\"],inplace=True)\n",
    "data.head()"
   ]
  },
  {
   "cell_type": "markdown",
   "id": "2e76cf9e-8125-4e05-af0b-4c132e9a3b74",
   "metadata": {},
   "source": [
    "# Create Visualizations\n",
    "Creating functions to input into the final dashboard"
   ]
  },
  {
   "cell_type": "code",
   "execution_count": null,
   "id": "86410f26-f60d-4442-933c-8337d6b60b39",
   "metadata": {},
   "outputs": [],
   "source": [
    "# Define Panel Visualization Functions - Overview"
   ]
  },
  {
   "cell_type": "code",
   "execution_count": null,
   "id": "5429fd94-bdf1-4603-b9f6-9ba680da05c1",
   "metadata": {},
   "outputs": [],
   "source": [
    "# Define Panel Visualization Functions - Historical"
   ]
  },
  {
   "cell_type": "code",
   "execution_count": 5,
   "id": "ecbab685-90b5-4ec7-8153-5e0105ec01e2",
   "metadata": {
    "tags": []
   },
   "outputs": [],
   "source": [
    "# Define Panel Visualization Functions - Correlations\n",
    "\n",
    "def total_correlation():\n",
    "    \"\"\"Total Correlation between Variables\"\"\"\n",
    "    \n",
    "    total = data.set_index(\"Date\").sum(level=\"Date\")\n",
    "    plot = sns.heatmap(total.corr(), vmin=-1, vmax=1, annot=True)\n",
    "    \n",
    "    return plot\n",
    "\n",
    "def hpi_vs_population():\n",
    "    \"\"\"Correlation between HPI and Population - grouped by MSA\"\"\"\n",
    "    \n",
    "    population = data[[\"Date\",\"MSA\",\"Population\",\"HPI\"]]\n",
    "    plot = population.hvplot.scatter(x=\"HPI\",y=\"Population\",groupby=\"MSA\", title=\"Correlation between HPI and Population\", width=1000)\n",
    "    \n",
    "    return plot\n",
    "\n",
    "def hpi_vs_income():\n",
    "    \"\"\"Correlation between HPI and Personal Income - grouped by MSA\"\"\"\n",
    "    \n",
    "    income = data[[\"Date\",\"MSA\",\"Personal Income\",\"HPI\"]]\n",
    "    plot = income.hvplot.scatter(x=\"HPI\",y=\"Personal Income\",groupby=\"MSA\", title=\"Correlation between HPI and Personal Income\", width=1000)\n",
    "    \n",
    "    return plot\n",
    "\n",
    "def hpi_vs_employment():\n",
    "    \"\"\"Correlation between HPI and Employment - grouped by MSA\"\"\"\n",
    "    \n",
    "    employment = data[[\"Date\",\"MSA\",\"Number Jobs\",\"HPI\"]]\n",
    "    plot = employment.hvplot.scatter(x=\"HPI\",y=\"Number Jobs\",groupby=\"MSA\", title=\"Correlation between HPI and Employment\", width=1000)\n",
    "    \n",
    "    return plot"
   ]
  },
  {
   "cell_type": "code",
   "execution_count": null,
   "id": "381d051c-8d18-44c3-99ff-ce30125f5ea3",
   "metadata": {},
   "outputs": [],
   "source": [
    "# Define Panel Visualization Functions - Forecasts"
   ]
  },
  {
   "cell_type": "code",
   "execution_count": null,
   "id": "3441eadf-013f-4851-ac23-9e9767af8674",
   "metadata": {},
   "outputs": [],
   "source": [
    "# Define Panel Visualization Functions - Conclusion"
   ]
  },
  {
   "cell_type": "markdown",
   "id": "256d6380-ceef-4be2-8e8f-7e1be9d52c7a",
   "metadata": {},
   "source": [
    "# Panel Dashboard\n",
    "Inputting the functions into the final dashboard"
   ]
  },
  {
   "cell_type": "code",
   "execution_count": null,
   "id": "7979ef9d-d235-4e92-a276-14fa2c6b31da",
   "metadata": {},
   "outputs": [],
   "source": []
  }
 ],
 "metadata": {
  "kernelspec": {
   "display_name": "Python 3",
   "language": "python",
   "name": "python3"
  },
  "language_info": {
   "codemirror_mode": {
    "name": "ipython",
    "version": 3
   },
   "file_extension": ".py",
   "mimetype": "text/x-python",
   "name": "python",
   "nbconvert_exporter": "python",
   "pygments_lexer": "ipython3",
   "version": "3.8.2"
  }
 },
 "nbformat": 4,
 "nbformat_minor": 5
}
