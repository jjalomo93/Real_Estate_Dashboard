{
 "cells": [
  {
   "cell_type": "code",
   "execution_count": 17,
   "id": "6760f304-93ff-4071-8769-e31a500c3fe9",
   "metadata": {},
   "outputs": [],
   "source": [
    "import pandas as pd\n",
    "from pathlib import Path\n",
    "import seaborn as sns\n",
    "import hvplot.pandas\n",
    "%matplotlib inline"
   ]
  },
  {
   "cell_type": "code",
   "execution_count": 140,
   "id": "34153c35-f340-4f1e-849d-e68ea6b29d05",
   "metadata": {},
   "outputs": [
    {
     "data": {
      "text/html": [
       "<div>\n",
       "<style scoped>\n",
       "    .dataframe tbody tr th:only-of-type {\n",
       "        vertical-align: middle;\n",
       "    }\n",
       "\n",
       "    .dataframe tbody tr th {\n",
       "        vertical-align: top;\n",
       "    }\n",
       "\n",
       "    .dataframe thead th {\n",
       "        text-align: right;\n",
       "    }\n",
       "</style>\n",
       "<table border=\"1\" class=\"dataframe\">\n",
       "  <thead>\n",
       "    <tr style=\"text-align: right;\">\n",
       "      <th></th>\n",
       "      <th>MSA</th>\n",
       "      <th>Population</th>\n",
       "      <th>Personal Income</th>\n",
       "      <th>Number Jobs</th>\n",
       "      <th>HPI</th>\n",
       "      <th>Date</th>\n",
       "    </tr>\n",
       "  </thead>\n",
       "  <tbody>\n",
       "    <tr>\n",
       "      <th>0</th>\n",
       "      <td>Baltimore-Columbia-Towson, MD</td>\n",
       "      <td>2557958</td>\n",
       "      <td>88618199</td>\n",
       "      <td>1543762</td>\n",
       "      <td>97.520000</td>\n",
       "      <td>2000-01-01</td>\n",
       "    </tr>\n",
       "    <tr>\n",
       "      <th>1</th>\n",
       "      <td>Baltimore-Columbia-Towson, MD</td>\n",
       "      <td>2575471</td>\n",
       "      <td>92560218</td>\n",
       "      <td>1547690</td>\n",
       "      <td>105.058333</td>\n",
       "      <td>2001-01-01</td>\n",
       "    </tr>\n",
       "    <tr>\n",
       "      <th>2</th>\n",
       "      <td>Baltimore-Columbia-Towson, MD</td>\n",
       "      <td>2596501</td>\n",
       "      <td>96206347</td>\n",
       "      <td>1558796</td>\n",
       "      <td>116.961667</td>\n",
       "      <td>2002-01-01</td>\n",
       "    </tr>\n",
       "    <tr>\n",
       "      <th>3</th>\n",
       "      <td>Baltimore-Columbia-Towson, MD</td>\n",
       "      <td>2614232</td>\n",
       "      <td>100100963</td>\n",
       "      <td>1566963</td>\n",
       "      <td>134.725833</td>\n",
       "      <td>2003-01-01</td>\n",
       "    </tr>\n",
       "    <tr>\n",
       "      <th>4</th>\n",
       "      <td>Baltimore-Columbia-Towson, MD</td>\n",
       "      <td>2630946</td>\n",
       "      <td>106048601</td>\n",
       "      <td>1593882</td>\n",
       "      <td>158.941667</td>\n",
       "      <td>2004-01-01</td>\n",
       "    </tr>\n",
       "  </tbody>\n",
       "</table>\n",
       "</div>"
      ],
      "text/plain": [
       "                             MSA  Population  Personal Income  Number Jobs  \\\n",
       "0  Baltimore-Columbia-Towson, MD     2557958         88618199      1543762   \n",
       "1  Baltimore-Columbia-Towson, MD     2575471         92560218      1547690   \n",
       "2  Baltimore-Columbia-Towson, MD     2596501         96206347      1558796   \n",
       "3  Baltimore-Columbia-Towson, MD     2614232        100100963      1566963   \n",
       "4  Baltimore-Columbia-Towson, MD     2630946        106048601      1593882   \n",
       "\n",
       "          HPI       Date  \n",
       "0   97.520000 2000-01-01  \n",
       "1  105.058333 2001-01-01  \n",
       "2  116.961667 2002-01-01  \n",
       "3  134.725833 2003-01-01  \n",
       "4  158.941667 2004-01-01  "
      ]
     },
     "execution_count": 140,
     "metadata": {},
     "output_type": "execute_result"
    }
   ],
   "source": [
    "# import total cleaned data\n",
    "data_path = Path(\"clean_data/all_msa_clean_data.csv\")\n",
    "data = pd.read_csv(data_path)\n",
    "data.drop(columns=[\"Unnamed: 0\",\"GeoFips\"],inplace=True)\n",
    "data[\"Date\"] = pd.to_datetime(data[\"Year\"],format=\"%Y\")\n",
    "data.drop(columns=[\"Year\"],inplace=True)\n",
    "data.head()"
   ]
  },
  {
   "cell_type": "code",
   "execution_count": 145,
   "id": "0c4086df-c846-45fc-bbcf-512be78f27f2",
   "metadata": {},
   "outputs": [
    {
     "data": {
      "text/html": [
       "<div>\n",
       "<style scoped>\n",
       "    .dataframe tbody tr th:only-of-type {\n",
       "        vertical-align: middle;\n",
       "    }\n",
       "\n",
       "    .dataframe tbody tr th {\n",
       "        vertical-align: top;\n",
       "    }\n",
       "\n",
       "    .dataframe thead th {\n",
       "        text-align: right;\n",
       "    }\n",
       "</style>\n",
       "<table border=\"1\" class=\"dataframe\">\n",
       "  <thead>\n",
       "    <tr style=\"text-align: right;\">\n",
       "      <th></th>\n",
       "      <th>Population</th>\n",
       "      <th>Personal Income</th>\n",
       "      <th>Number Jobs</th>\n",
       "      <th>HPI</th>\n",
       "    </tr>\n",
       "    <tr>\n",
       "      <th>Date</th>\n",
       "      <th></th>\n",
       "      <th></th>\n",
       "      <th></th>\n",
       "      <th></th>\n",
       "    </tr>\n",
       "  </thead>\n",
       "  <tbody>\n",
       "    <tr>\n",
       "      <th>2000-01-01</th>\n",
       "      <td>95427107</td>\n",
       "      <td>3401479340</td>\n",
       "      <td>57475552</td>\n",
       "      <td>1942.480833</td>\n",
       "    </tr>\n",
       "    <tr>\n",
       "      <th>2001-01-01</th>\n",
       "      <td>96588136</td>\n",
       "      <td>3526822660</td>\n",
       "      <td>57760957</td>\n",
       "      <td>2096.887500</td>\n",
       "    </tr>\n",
       "    <tr>\n",
       "      <th>2002-01-01</th>\n",
       "      <td>97589462</td>\n",
       "      <td>3569924034</td>\n",
       "      <td>57595322</td>\n",
       "      <td>2278.512500</td>\n",
       "    </tr>\n",
       "    <tr>\n",
       "      <th>2003-01-01</th>\n",
       "      <td>98425898</td>\n",
       "      <td>3681361630</td>\n",
       "      <td>57843311</td>\n",
       "      <td>2490.193333</td>\n",
       "    </tr>\n",
       "    <tr>\n",
       "      <th>2004-01-01</th>\n",
       "      <td>99225742</td>\n",
       "      <td>3889605752</td>\n",
       "      <td>58861600</td>\n",
       "      <td>2779.205000</td>\n",
       "    </tr>\n",
       "  </tbody>\n",
       "</table>\n",
       "</div>"
      ],
      "text/plain": [
       "            Population  Personal Income  Number Jobs          HPI\n",
       "Date                                                             \n",
       "2000-01-01    95427107       3401479340     57475552  1942.480833\n",
       "2001-01-01    96588136       3526822660     57760957  2096.887500\n",
       "2002-01-01    97589462       3569924034     57595322  2278.512500\n",
       "2003-01-01    98425898       3681361630     57843311  2490.193333\n",
       "2004-01-01    99225742       3889605752     58861600  2779.205000"
      ]
     },
     "execution_count": 145,
     "metadata": {},
     "output_type": "execute_result"
    }
   ],
   "source": [
    "# create summation of values by date, removing MSA to calculate high-level correlation\n",
    "total = data.set_index(\"Date\").sum(level=\"Date\")\n",
    "total.head()"
   ]
  },
  {
   "cell_type": "code",
   "execution_count": 150,
   "id": "8ec35b80-660c-43c0-bb73-1a562b3d521c",
   "metadata": {},
   "outputs": [
    {
     "data": {
      "text/plain": [
       "<matplotlib.axes._subplots.AxesSubplot at 0x7f816615a1c0>"
      ]
     },
     "execution_count": 150,
     "metadata": {},
     "output_type": "execute_result"
    },
    {
     "data": {
      "image/png": "[encoded data removed]",
      "text/plain": [
       "<Figure size 432x288 with 2 Axes>"
      ]
     },
     "metadata": {
      "needs_background": "light"
     },
     "output_type": "display_data"
    }
   ],
   "source": [
    "# create heatmap of total correlation\n",
    "sns.heatmap(total.corr(), vmin=-1, vmax=1, annot=True)"
   ]
  },
  {
   "cell_type": "code",
   "execution_count": 101,
   "id": "6eb4bbec-a9e1-41f9-92cb-4ebaa98b5a14",
   "metadata": {},
   "outputs": [
    {
     "data": {
      "text/html": [
       "<div>\n",
       "<style scoped>\n",
       "    .dataframe tbody tr th:only-of-type {\n",
       "        vertical-align: middle;\n",
       "    }\n",
       "\n",
       "    .dataframe tbody tr th {\n",
       "        vertical-align: top;\n",
       "    }\n",
       "\n",
       "    .dataframe thead th {\n",
       "        text-align: right;\n",
       "    }\n",
       "</style>\n",
       "<table border=\"1\" class=\"dataframe\">\n",
       "  <thead>\n",
       "    <tr style=\"text-align: right;\">\n",
       "      <th></th>\n",
       "      <th>Date</th>\n",
       "      <th>MSA</th>\n",
       "      <th>Personal Income</th>\n",
       "      <th>HPI</th>\n",
       "    </tr>\n",
       "  </thead>\n",
       "  <tbody>\n",
       "    <tr>\n",
       "      <th>0</th>\n",
       "      <td>2000-01-01</td>\n",
       "      <td>Baltimore-Columbia-Towson, MD</td>\n",
       "      <td>88618199</td>\n",
       "      <td>97.520000</td>\n",
       "    </tr>\n",
       "    <tr>\n",
       "      <th>1</th>\n",
       "      <td>2001-01-01</td>\n",
       "      <td>Baltimore-Columbia-Towson, MD</td>\n",
       "      <td>92560218</td>\n",
       "      <td>105.058333</td>\n",
       "    </tr>\n",
       "    <tr>\n",
       "      <th>2</th>\n",
       "      <td>2002-01-01</td>\n",
       "      <td>Baltimore-Columbia-Towson, MD</td>\n",
       "      <td>96206347</td>\n",
       "      <td>116.961667</td>\n",
       "    </tr>\n",
       "    <tr>\n",
       "      <th>3</th>\n",
       "      <td>2003-01-01</td>\n",
       "      <td>Baltimore-Columbia-Towson, MD</td>\n",
       "      <td>100100963</td>\n",
       "      <td>134.725833</td>\n",
       "    </tr>\n",
       "    <tr>\n",
       "      <th>4</th>\n",
       "      <td>2004-01-01</td>\n",
       "      <td>Baltimore-Columbia-Towson, MD</td>\n",
       "      <td>106048601</td>\n",
       "      <td>158.941667</td>\n",
       "    </tr>\n",
       "  </tbody>\n",
       "</table>\n",
       "</div>"
      ],
      "text/plain": [
       "        Date                            MSA  Personal Income         HPI\n",
       "0 2000-01-01  Baltimore-Columbia-Towson, MD         88618199   97.520000\n",
       "1 2001-01-01  Baltimore-Columbia-Towson, MD         92560218  105.058333\n",
       "2 2002-01-01  Baltimore-Columbia-Towson, MD         96206347  116.961667\n",
       "3 2003-01-01  Baltimore-Columbia-Towson, MD        100100963  134.725833\n",
       "4 2004-01-01  Baltimore-Columbia-Towson, MD        106048601  158.941667"
      ]
     },
     "execution_count": 101,
     "metadata": {},
     "output_type": "execute_result"
    }
   ],
   "source": [
    "# splice data to only show income vs HPI\n",
    "income = data[[\"Date\",\"MSA\",\"Personal Income\",\"HPI\"]]\n",
    "income.head()"
   ]
  },
  {
   "cell_type": "code",
   "execution_count": 141,
   "id": "3e497f0e-b342-41d2-843f-09dfb1b20463",
   "metadata": {},
   "outputs": [
    {
     "data": {},
     "metadata": {},
     "output_type": "display_data"
    },
    {
     "data": {
      "application/vnd.holoviews_exec.v0+json": "",
      "text/html": [
       "<div id='10670'>\n",
       "\n",
       "\n",
       "\n",
       "\n",
       "\n",
       "  <div class=\"bk-root\" id=\"19c081e8-541c-4bbe-a89c-bb238e511e29\" data-root-id=\"10670\"></div>\n",
       "</div>\n",
       "<script type=\"application/javascript\">(function(root) {\n",
       "  function embed_document(root) {\n",
       "  var docs_json = {\"856fedc7-0685-470c-8a25-b9df2da01250\":{\"roots\":{\"references\":[{\"attributes\":{},\"id\":\"10714\",\"type\":\"BasicTickFormatter\"},{\"attributes\":{\"bottom_units\":\"screen\",\"fill_alpha\":0.5,\"fill_color\":\"lightgrey\",\"left_units\":\"screen\",\"level\":\"overlay\",\"line_alpha\":1.0,\"line_color\":\"black\",\"line_dash\":[4,4],\"line_width\":2,\"render_mode\":\"css\",\"right_units\":\"screen\",\"top_units\":\"screen\"},\"id\":\"10697\",\"type\":\"BoxAnnotation\"},{\"attributes\":{\"callback\":null,\"renderers\":[{\"id\":\"10711\"}],\"tags\":[\"hv_created\"],\"tooltips\":[[\"HPI\",\"@{HPI}\"],[\"Personal Income\",\"@{Personal_Income}\"]]},\"id\":\"10674\",\"type\":\"HoverTool\"},{\"attributes\":{},\"id\":\"10689\",\"type\":\"BasicTicker\"},{\"attributes\":{},\"id\":\"10716\",\"type\":\"BasicTickFormatter\"},{\"attributes\":{\"data\":{\"HPI\":{\"__ndarray__\":\"4XoUrkdhWEC8u7u7u0NaQCW/WPKLPV1AbaDTBjrXYEAjIiIiIt5jQN/d3d3ds2dAL5b8YsmhaUDAWPKLJZNpQJ/TBjptomdAz2kDnTbCZUAYS36x5PtkQI7C9ShcGWRAJb9Y8ostZEAs+cWSXyhlQLHkF0t+i2VAeHd3d3fDZUD4xZJfLE1mQJqZmZmZOWdALfnFkl8CaEAb6LSBTm9oQA==\",\"dtype\":\"float64\",\"shape\":[20]},\"Personal Income\":[88618199,92560218,96206347,100100963,106048601,112150514,119250613,124913017,129517393,128216434,132299439,139408288,143713198,144540375,150789783,156931804,161864493,167288930,173683854,179169101],\"Personal_Income\":[88618199,92560218,96206347,100100963,106048601,112150514,119250613,124913017,129517393,128216434,132299439,139408288,143713198,144540375,150789783,156931804,161864493,167288930,173683854,179169101]},\"selected\":{\"id\":\"10706\"},\"selection_policy\":{\"id\":\"10727\"}},\"id\":\"10705\",\"type\":\"ColumnDataSource\"},{\"attributes\":{\"margin\":[5,5,5,5],\"name\":\"VSpacer23152\",\"sizing_mode\":\"stretch_height\"},\"id\":\"10734\",\"type\":\"Spacer\"},{\"attributes\":{\"end\":188224191.2,\"reset_end\":188224191.2,\"reset_start\":79563108.8,\"start\":79563108.8,\"tags\":[[[\"Personal Income\",\"Personal Income\",null]]]},\"id\":\"10673\",\"type\":\"Range1d\"},{\"attributes\":{\"margin\":[5,5,5,5],\"name\":\"VSpacer23151\",\"sizing_mode\":\"stretch_height\"},\"id\":\"10731\",\"type\":\"Spacer\"},{\"attributes\":{\"text\":\"Correlation between HPI and Personal Income\",\"text_color\":{\"value\":\"black\"},\"text_font_size\":{\"value\":\"12pt\"}},\"id\":\"10676\",\"type\":\"Title\"},{\"attributes\":{\"children\":[{\"id\":\"10671\"},{\"id\":\"10675\"},{\"id\":\"10729\"},{\"id\":\"10730\"}],\"margin\":[0,0,0,0],\"name\":\"Row23145\"},\"id\":\"10670\",\"type\":\"Row\"},{\"attributes\":{\"children\":[{\"id\":\"10733\"}],\"css_classes\":[\"widget-box\"],\"margin\":[5,5,5,5],\"name\":\"WidgetBox23146\"},\"id\":\"10732\",\"type\":\"Column\"},{\"attributes\":{\"end\":209.6645119047619,\"reset_end\":209.6645119047619,\"reset_start\":92.91132142857143,\"start\":92.91132142857143,\"tags\":[[[\"HPI\",\"HPI\",null]]]},\"id\":\"10672\",\"type\":\"Range1d\"},{\"attributes\":{\"margin\":[5,5,5,5],\"name\":\"HSpacer23154\",\"sizing_mode\":\"stretch_width\"},\"id\":\"10671\",\"type\":\"Spacer\"},{\"attributes\":{\"margin\":[20,20,20,20],\"min_width\":250,\"options\":[\"Baltimore-Columbia-Towson, MD\",\"Boston-Cambridge-Newton, MA-NH\",\"Charlotte-Concord-Gastonia, NC-SC\",\"Chicago-Naperville-Elgin, IL-IN-WI\",\"Dallas-Fort Worth-Arlington, TX\",\"Denver-Aurora-Lakewood, CO\",\"Detroit-Warren-Dearborn, MI\",\"Houston-The Woodlands-Sugar Land, TX\",\"Los Angeles-Long Beach-Anaheim, CA\",\"Minneapolis-St. Paul-Bloomington, MN-WI\",\"New York-Newark-Jersey City, NY-NJ-PA\",\"Orlando-Kissimmee-Sanford, FL\",\"Philadelphia-Camden-Wilmington, PA-NJ-DE-MD\",\"Portland-Vancouver-Hillsboro, OR-WA\",\"Riverside-San Bernardino-Ontario, CA\",\"St. Louis, MO-IL\",\"San Antonio-New Braunfels, TX\",\"Seattle-Tacoma-Bellevue, WA\",\"Tampa-St. Petersburg-Clearwater, FL\",\"Washington-Arlington-Alexandria, DC-VA-MD-WV\"],\"title\":\"MSA\",\"value\":\"Baltimore-Columbia-Towson, MD\",\"width\":250},\"id\":\"10733\",\"type\":\"Select\"},{\"attributes\":{},\"id\":\"10685\",\"type\":\"BasicTicker\"},{\"attributes\":{},\"id\":\"10727\",\"type\":\"UnionRenderers\"},{\"attributes\":{\"axis_label\":\"Personal Income\",\"bounds\":\"auto\",\"formatter\":{\"id\":\"10716\"},\"major_label_orientation\":\"horizontal\",\"ticker\":{\"id\":\"10689\"}},\"id\":\"10688\",\"type\":\"LinearAxis\"},{\"attributes\":{\"axis\":{\"id\":\"10684\"},\"grid_line_color\":null,\"ticker\":null},\"id\":\"10687\",\"type\":\"Grid\"},{\"attributes\":{},\"id\":\"10680\",\"type\":\"LinearScale\"},{\"attributes\":{},\"id\":\"10682\",\"type\":\"LinearScale\"},{\"attributes\":{\"below\":[{\"id\":\"10684\"}],\"center\":[{\"id\":\"10687\"},{\"id\":\"10691\"}],\"left\":[{\"id\":\"10688\"}],\"margin\":null,\"min_border_bottom\":10,\"min_border_left\":10,\"min_border_right\":10,\"min_border_top\":10,\"plot_height\":300,\"plot_width\":700,\"renderers\":[{\"id\":\"10711\"}],\"sizing_mode\":\"fixed\",\"title\":{\"id\":\"10676\"},\"toolbar\":{\"id\":\"10698\"},\"x_range\":{\"id\":\"10672\"},\"x_scale\":{\"id\":\"10680\"},\"y_range\":{\"id\":\"10673\"},\"y_scale\":{\"id\":\"10682\"}},\"id\":\"10675\",\"subtype\":\"Figure\",\"type\":\"Plot\"},{\"attributes\":{\"axis_label\":\"HPI\",\"bounds\":\"auto\",\"formatter\":{\"id\":\"10714\"},\"major_label_orientation\":\"horizontal\",\"ticker\":{\"id\":\"10685\"}},\"id\":\"10684\",\"type\":\"LinearAxis\"},{\"attributes\":{\"axis\":{\"id\":\"10688\"},\"dimension\":1,\"grid_line_color\":null,\"ticker\":null},\"id\":\"10691\",\"type\":\"Grid\"},{\"attributes\":{},\"id\":\"10692\",\"type\":\"SaveTool\"},{\"attributes\":{\"fill_alpha\":{\"value\":0.2},\"fill_color\":{\"value\":\"#1f77b3\"},\"line_alpha\":{\"value\":0.2},\"line_color\":{\"value\":\"#1f77b3\"},\"size\":{\"units\":\"screen\",\"value\":5.477225575051661},\"x\":{\"field\":\"HPI\"},\"y\":{\"field\":\"Personal Income\"}},\"id\":\"10710\",\"type\":\"Scatter\"},{\"attributes\":{},\"id\":\"10693\",\"type\":\"PanTool\"},{\"attributes\":{\"client_comm_id\":\"81e8545e229c4c8fb36665231cd025bd\",\"comm_id\":\"c6f9ec5a9d614893a187a46178ea20ad\",\"plot_id\":\"10670\"},\"id\":\"10759\",\"type\":\"panel.models.comm_manager.CommManager\"},{\"attributes\":{},\"id\":\"10694\",\"type\":\"WheelZoomTool\"},{\"attributes\":{\"overlay\":{\"id\":\"10697\"}},\"id\":\"10695\",\"type\":\"BoxZoomTool\"},{\"attributes\":{},\"id\":\"10696\",\"type\":\"ResetTool\"},{\"attributes\":{\"active_drag\":\"auto\",\"active_inspect\":\"auto\",\"active_multi\":null,\"active_scroll\":\"auto\",\"active_tap\":\"auto\",\"tools\":[{\"id\":\"10674\"},{\"id\":\"10692\"},{\"id\":\"10693\"},{\"id\":\"10694\"},{\"id\":\"10695\"},{\"id\":\"10696\"}]},\"id\":\"10698\",\"type\":\"Toolbar\"},{\"attributes\":{},\"id\":\"10706\",\"type\":\"Selection\"},{\"attributes\":{\"fill_color\":{\"value\":\"#1f77b3\"},\"line_color\":{\"value\":\"#1f77b3\"},\"size\":{\"units\":\"screen\",\"value\":5.477225575051661},\"x\":{\"field\":\"HPI\"},\"y\":{\"field\":\"Personal Income\"}},\"id\":\"10708\",\"type\":\"Scatter\"},{\"attributes\":{\"data_source\":{\"id\":\"10705\"},\"glyph\":{\"id\":\"10708\"},\"hover_glyph\":null,\"muted_glyph\":{\"id\":\"10710\"},\"nonselection_glyph\":{\"id\":\"10709\"},\"selection_glyph\":null,\"view\":{\"id\":\"10712\"}},\"id\":\"10711\",\"type\":\"GlyphRenderer\"},{\"attributes\":{\"children\":[{\"id\":\"10731\"},{\"id\":\"10732\"},{\"id\":\"10734\"}],\"margin\":[0,0,0,0],\"name\":\"Column23153\"},\"id\":\"10730\",\"type\":\"Column\"},{\"attributes\":{\"fill_alpha\":{\"value\":0.1},\"fill_color\":{\"value\":\"#1f77b3\"},\"line_alpha\":{\"value\":0.1},\"line_color\":{\"value\":\"#1f77b3\"},\"size\":{\"units\":\"screen\",\"value\":5.477225575051661},\"x\":{\"field\":\"HPI\"},\"y\":{\"field\":\"Personal Income\"}},\"id\":\"10709\",\"type\":\"Scatter\"},{\"attributes\":{\"source\":{\"id\":\"10705\"}},\"id\":\"10712\",\"type\":\"CDSView\"},{\"attributes\":{\"margin\":[5,5,5,5],\"name\":\"HSpacer23155\",\"sizing_mode\":\"stretch_width\"},\"id\":\"10729\",\"type\":\"Spacer\"}],\"root_ids\":[\"10670\",\"10759\"]},\"title\":\"Bokeh Application\",\"version\":\"2.0.2\"}};\n",
       "  var render_items = [{\"docid\":\"856fedc7-0685-470c-8a25-b9df2da01250\",\"root_ids\":[\"10670\"],\"roots\":{\"10670\":\"19c081e8-541c-4bbe-a89c-bb238e511e29\"}}];\n",
       "  root.Bokeh.embed.embed_items_notebook(docs_json, render_items);\n",
       "  }\n",
       "if (root.Bokeh !== undefined) {\n",
       "    embed_document(root);\n",
       "  } else {\n",
       "    var attempts = 0;\n",
       "    var timer = setInterval(function(root) {\n",
       "      if (root.Bokeh !== undefined) {\n",
       "        clearInterval(timer);\n",
       "        embed_document(root);\n",
       "      } else if (document.readyState == \"complete\") {\n",
       "        attempts++;\n",
       "        if (attempts > 100) {\n",
       "          clearInterval(timer);\n",
       "          console.log(\"Bokeh: ERROR: Unable to run BokehJS code because BokehJS library is missing\");\n",
       "        }\n",
       "      }\n",
       "    }, 10, root)\n",
       "  }\n",
       "})(window);</script>"
      ],
      "text/plain": [
       ":DynamicMap   [MSA]\n",
       "   :Scatter   [HPI]   (Personal Income)"
      ]
     },
     "execution_count": 141,
     "metadata": {
      "application/vnd.holoviews_exec.v0+json": {
       "id": "10670"
      }
     },
     "output_type": "execute_result"
    }
   ],
   "source": [
    "# correlate income and HPI grouped by MSA\n",
    "income.hvplot.scatter(x=\"HPI\",y=\"Personal Income\",groupby=\"MSA\", title=\"Correlation between HPI and Personal Income\")"
   ]
  },
  {
   "cell_type": "code",
   "execution_count": 135,
   "id": "0944d897-0398-474a-ae04-3bd88c6620ab",
   "metadata": {},
   "outputs": [
    {
     "data": {
      "text/html": [
       "<div>\n",
       "<style scoped>\n",
       "    .dataframe tbody tr th:only-of-type {\n",
       "        vertical-align: middle;\n",
       "    }\n",
       "\n",
       "    .dataframe tbody tr th {\n",
       "        vertical-align: top;\n",
       "    }\n",
       "\n",
       "    .dataframe thead th {\n",
       "        text-align: right;\n",
       "    }\n",
       "</style>\n",
       "<table border=\"1\" class=\"dataframe\">\n",
       "  <thead>\n",
       "    <tr style=\"text-align: right;\">\n",
       "      <th></th>\n",
       "      <th>Date</th>\n",
       "      <th>MSA</th>\n",
       "      <th>Population</th>\n",
       "      <th>HPI</th>\n",
       "    </tr>\n",
       "  </thead>\n",
       "  <tbody>\n",
       "    <tr>\n",
       "      <th>0</th>\n",
       "      <td>2000-01-01</td>\n",
       "      <td>Baltimore-Columbia-Towson, MD</td>\n",
       "      <td>2557958</td>\n",
       "      <td>97.520000</td>\n",
       "    </tr>\n",
       "    <tr>\n",
       "      <th>1</th>\n",
       "      <td>2001-01-01</td>\n",
       "      <td>Baltimore-Columbia-Towson, MD</td>\n",
       "      <td>2575471</td>\n",
       "      <td>105.058333</td>\n",
       "    </tr>\n",
       "    <tr>\n",
       "      <th>2</th>\n",
       "      <td>2002-01-01</td>\n",
       "      <td>Baltimore-Columbia-Towson, MD</td>\n",
       "      <td>2596501</td>\n",
       "      <td>116.961667</td>\n",
       "    </tr>\n",
       "    <tr>\n",
       "      <th>3</th>\n",
       "      <td>2003-01-01</td>\n",
       "      <td>Baltimore-Columbia-Towson, MD</td>\n",
       "      <td>2614232</td>\n",
       "      <td>134.725833</td>\n",
       "    </tr>\n",
       "    <tr>\n",
       "      <th>4</th>\n",
       "      <td>2004-01-01</td>\n",
       "      <td>Baltimore-Columbia-Towson, MD</td>\n",
       "      <td>2630946</td>\n",
       "      <td>158.941667</td>\n",
       "    </tr>\n",
       "  </tbody>\n",
       "</table>\n",
       "</div>"
      ],
      "text/plain": [
       "        Date                            MSA  Population         HPI\n",
       "0 2000-01-01  Baltimore-Columbia-Towson, MD     2557958   97.520000\n",
       "1 2001-01-01  Baltimore-Columbia-Towson, MD     2575471  105.058333\n",
       "2 2002-01-01  Baltimore-Columbia-Towson, MD     2596501  116.961667\n",
       "3 2003-01-01  Baltimore-Columbia-Towson, MD     2614232  134.725833\n",
       "4 2004-01-01  Baltimore-Columbia-Towson, MD     2630946  158.941667"
      ]
     },
     "execution_count": 135,
     "metadata": {},
     "output_type": "execute_result"
    }
   ],
   "source": [
    "# splice data to only show population vs HPI\n",
    "population = data[[\"Date\",\"MSA\",\"Population\",\"HPI\"]]\n",
    "population.head()"
   ]
  },
  {
   "cell_type": "code",
   "execution_count": 137,
   "id": "6701159f-0ce6-47f3-9516-2e9b6903f3f2",
   "metadata": {},
   "outputs": [
    {
     "data": {},
     "metadata": {},
     "output_type": "display_data"
    },
    {
     "data": {
      "application/vnd.holoviews_exec.v0+json": "",
      "text/html": [
       "<div id='10390'>\n",
       "\n",
       "\n",
       "\n",
       "\n",
       "\n",
       "  <div class=\"bk-root\" id=\"3eaea66d-ff71-4909-aec0-ab123a29b8d6\" data-root-id=\"10390\"></div>\n",
       "</div>\n",
       "<script type=\"application/javascript\">(function(root) {\n",
       "  function embed_document(root) {\n",
       "  var docs_json = {\"d1c26ecd-fb6d-46c0-b3db-6a7e1b00aae5\":{\"roots\":{\"references\":[{\"attributes\":{\"axis_label\":\"HPI\",\"bounds\":\"auto\",\"formatter\":{\"id\":\"10434\"},\"major_label_orientation\":\"horizontal\",\"ticker\":{\"id\":\"10405\"}},\"id\":\"10404\",\"type\":\"LinearAxis\"},{\"attributes\":{},\"id\":\"10405\",\"type\":\"BasicTicker\"},{\"attributes\":{\"axis_label\":\"Population\",\"bounds\":\"auto\",\"formatter\":{\"id\":\"10436\"},\"major_label_orientation\":\"horizontal\",\"ticker\":{\"id\":\"10409\"}},\"id\":\"10408\",\"type\":\"LinearAxis\"},{\"attributes\":{\"below\":[{\"id\":\"10404\"}],\"center\":[{\"id\":\"10407\"},{\"id\":\"10411\"}],\"left\":[{\"id\":\"10408\"}],\"margin\":null,\"min_border_bottom\":10,\"min_border_left\":10,\"min_border_right\":10,\"min_border_top\":10,\"plot_height\":300,\"plot_width\":700,\"renderers\":[{\"id\":\"10431\"}],\"sizing_mode\":\"fixed\",\"title\":{\"id\":\"10396\"},\"toolbar\":{\"id\":\"10418\"},\"x_range\":{\"id\":\"10392\"},\"x_scale\":{\"id\":\"10400\"},\"y_range\":{\"id\":\"10393\"},\"y_scale\":{\"id\":\"10402\"}},\"id\":\"10395\",\"subtype\":\"Figure\",\"type\":\"Plot\"},{\"attributes\":{\"axis\":{\"id\":\"10404\"},\"grid_line_color\":null,\"ticker\":null},\"id\":\"10407\",\"type\":\"Grid\"},{\"attributes\":{},\"id\":\"10409\",\"type\":\"BasicTicker\"},{\"attributes\":{\"children\":[{\"id\":\"10391\"},{\"id\":\"10395\"},{\"id\":\"10449\"},{\"id\":\"10450\"}],\"margin\":[0,0,0,0],\"name\":\"Row22321\"},\"id\":\"10390\",\"type\":\"Row\"},{\"attributes\":{\"axis\":{\"id\":\"10408\"},\"dimension\":1,\"grid_line_color\":null,\"ticker\":null},\"id\":\"10411\",\"type\":\"Grid\"},{\"attributes\":{},\"id\":\"10413\",\"type\":\"PanTool\"},{\"attributes\":{},\"id\":\"10426\",\"type\":\"Selection\"},{\"attributes\":{\"client_comm_id\":\"f942479ca0464f09acf9f6a4d0a90561\",\"comm_id\":\"08f8da4515ae47d89c4fe5b7e2ddecd2\",\"plot_id\":\"10390\"},\"id\":\"10479\",\"type\":\"panel.models.comm_manager.CommManager\"},{\"attributes\":{},\"id\":\"10412\",\"type\":\"SaveTool\"},{\"attributes\":{\"margin\":[5,5,5,5],\"name\":\"VSpacer22327\",\"sizing_mode\":\"stretch_height\"},\"id\":\"10451\",\"type\":\"Spacer\"},{\"attributes\":{},\"id\":\"10414\",\"type\":\"WheelZoomTool\"},{\"attributes\":{\"active_drag\":\"auto\",\"active_inspect\":\"auto\",\"active_multi\":null,\"active_scroll\":\"auto\",\"active_tap\":\"auto\",\"tools\":[{\"id\":\"10394\"},{\"id\":\"10412\"},{\"id\":\"10413\"},{\"id\":\"10414\"},{\"id\":\"10415\"},{\"id\":\"10416\"}]},\"id\":\"10418\",\"type\":\"Toolbar\"},{\"attributes\":{\"overlay\":{\"id\":\"10417\"}},\"id\":\"10415\",\"type\":\"BoxZoomTool\"},{\"attributes\":{},\"id\":\"10436\",\"type\":\"BasicTickFormatter\"},{\"attributes\":{},\"id\":\"10416\",\"type\":\"ResetTool\"},{\"attributes\":{},\"id\":\"10447\",\"type\":\"UnionRenderers\"},{\"attributes\":{\"fill_alpha\":{\"value\":0.1},\"fill_color\":{\"value\":\"#1f77b3\"},\"line_alpha\":{\"value\":0.1},\"line_color\":{\"value\":\"#1f77b3\"},\"size\":{\"units\":\"screen\",\"value\":5.477225575051661},\"x\":{\"field\":\"HPI\"},\"y\":{\"field\":\"Population\"}},\"id\":\"10429\",\"type\":\"Scatter\"},{\"attributes\":{\"children\":[{\"id\":\"10453\"}],\"css_classes\":[\"widget-box\"],\"margin\":[5,5,5,5],\"name\":\"WidgetBox22322\"},\"id\":\"10452\",\"type\":\"Column\"},{\"attributes\":{\"margin\":[5,5,5,5],\"name\":\"VSpacer22328\",\"sizing_mode\":\"stretch_height\"},\"id\":\"10454\",\"type\":\"Spacer\"},{\"attributes\":{\"fill_color\":{\"value\":\"#1f77b3\"},\"line_color\":{\"value\":\"#1f77b3\"},\"size\":{\"units\":\"screen\",\"value\":5.477225575051661},\"x\":{\"field\":\"HPI\"},\"y\":{\"field\":\"Population\"}},\"id\":\"10428\",\"type\":\"Scatter\"},{\"attributes\":{\"data_source\":{\"id\":\"10425\"},\"glyph\":{\"id\":\"10428\"},\"hover_glyph\":null,\"muted_glyph\":{\"id\":\"10430\"},\"nonselection_glyph\":{\"id\":\"10429\"},\"selection_glyph\":null,\"view\":{\"id\":\"10432\"}},\"id\":\"10431\",\"type\":\"GlyphRenderer\"},{\"attributes\":{\"source\":{\"id\":\"10425\"}},\"id\":\"10432\",\"type\":\"CDSView\"},{\"attributes\":{\"fill_alpha\":{\"value\":0.2},\"fill_color\":{\"value\":\"#1f77b3\"},\"line_alpha\":{\"value\":0.2},\"line_color\":{\"value\":\"#1f77b3\"},\"size\":{\"units\":\"screen\",\"value\":5.477225575051661},\"x\":{\"field\":\"HPI\"},\"y\":{\"field\":\"Population\"}},\"id\":\"10430\",\"type\":\"Scatter\"},{\"attributes\":{\"children\":[{\"id\":\"10451\"},{\"id\":\"10452\"},{\"id\":\"10454\"}],\"margin\":[0,0,0,0],\"name\":\"Column22329\"},\"id\":\"10450\",\"type\":\"Column\"},{\"attributes\":{},\"id\":\"10434\",\"type\":\"BasicTickFormatter\"},{\"attributes\":{\"callback\":null,\"renderers\":[{\"id\":\"10431\"}],\"tags\":[\"hv_created\"],\"tooltips\":[[\"HPI\",\"@{HPI}\"],[\"Population\",\"@{Population}\"]]},\"id\":\"10394\",\"type\":\"HoverTool\"},{\"attributes\":{\"bottom_units\":\"screen\",\"fill_alpha\":0.5,\"fill_color\":\"lightgrey\",\"left_units\":\"screen\",\"level\":\"overlay\",\"line_alpha\":1.0,\"line_color\":\"black\",\"line_dash\":[4,4],\"line_width\":2,\"render_mode\":\"css\",\"right_units\":\"screen\",\"top_units\":\"screen\"},\"id\":\"10417\",\"type\":\"BoxAnnotation\"},{\"attributes\":{},\"id\":\"10402\",\"type\":\"LinearScale\"},{\"attributes\":{\"margin\":[20,20,20,20],\"min_width\":250,\"options\":[\"Baltimore-Columbia-Towson, MD\",\"Boston-Cambridge-Newton, MA-NH\",\"Charlotte-Concord-Gastonia, NC-SC\",\"Chicago-Naperville-Elgin, IL-IN-WI\",\"Dallas-Fort Worth-Arlington, TX\",\"Denver-Aurora-Lakewood, CO\",\"Detroit-Warren-Dearborn, MI\",\"Houston-The Woodlands-Sugar Land, TX\",\"Los Angeles-Long Beach-Anaheim, CA\",\"Minneapolis-St. Paul-Bloomington, MN-WI\",\"New York-Newark-Jersey City, NY-NJ-PA\",\"Orlando-Kissimmee-Sanford, FL\",\"Philadelphia-Camden-Wilmington, PA-NJ-DE-MD\",\"Portland-Vancouver-Hillsboro, OR-WA\",\"Riverside-San Bernardino-Ontario, CA\",\"St. Louis, MO-IL\",\"San Antonio-New Braunfels, TX\",\"Seattle-Tacoma-Bellevue, WA\",\"Tampa-St. Petersburg-Clearwater, FL\",\"Washington-Arlington-Alexandria, DC-VA-MD-WV\"],\"title\":\"MSA\",\"value\":\"Baltimore-Columbia-Towson, MD\",\"width\":250},\"id\":\"10453\",\"type\":\"Select\"},{\"attributes\":{\"margin\":[5,5,5,5],\"name\":\"HSpacer22330\",\"sizing_mode\":\"stretch_width\"},\"id\":\"10391\",\"type\":\"Spacer\"},{\"attributes\":{\"margin\":[5,5,5,5],\"name\":\"HSpacer22331\",\"sizing_mode\":\"stretch_width\"},\"id\":\"10449\",\"type\":\"Spacer\"},{\"attributes\":{\"end\":2825021.5,\"reset_end\":2825021.5,\"reset_start\":2533679.5,\"start\":2533679.5,\"tags\":[[[\"Population\",\"Population\",null]]]},\"id\":\"10393\",\"type\":\"Range1d\"},{\"attributes\":{\"text\":\"Correlation between HPI and Population\",\"text_color\":{\"value\":\"black\"},\"text_font_size\":{\"value\":\"12pt\"}},\"id\":\"10396\",\"type\":\"Title\"},{\"attributes\":{\"end\":209.6645119047619,\"reset_end\":209.6645119047619,\"reset_start\":92.91132142857143,\"start\":92.91132142857143,\"tags\":[[[\"HPI\",\"HPI\",null]]]},\"id\":\"10392\",\"type\":\"Range1d\"},{\"attributes\":{\"data\":{\"HPI\":{\"__ndarray__\":\"4XoUrkdhWEC8u7u7u0NaQCW/WPKLPV1AbaDTBjrXYEAjIiIiIt5jQN/d3d3ds2dAL5b8YsmhaUDAWPKLJZNpQJ/TBjptomdAz2kDnTbCZUAYS36x5PtkQI7C9ShcGWRAJb9Y8ostZEAs+cWSXyhlQLHkF0t+i2VAeHd3d3fDZUD4xZJfLE1mQJqZmZmZOWdALfnFkl8CaEAb6LSBTm9oQA==\",\"dtype\":\"float64\",\"shape\":[20]},\"Population\":[2557958,2575471,2596501,2614232,2630946,2644231,2658162,2667619,2679819,2696018,2715738,2733785,2754637,2768233,2780055,2790053,2794111,2798707,2800743,2800053]},\"selected\":{\"id\":\"10426\"},\"selection_policy\":{\"id\":\"10447\"}},\"id\":\"10425\",\"type\":\"ColumnDataSource\"},{\"attributes\":{},\"id\":\"10400\",\"type\":\"LinearScale\"}],\"root_ids\":[\"10390\",\"10479\"]},\"title\":\"Bokeh Application\",\"version\":\"2.0.2\"}};\n",
       "  var render_items = [{\"docid\":\"d1c26ecd-fb6d-46c0-b3db-6a7e1b00aae5\",\"root_ids\":[\"10390\"],\"roots\":{\"10390\":\"3eaea66d-ff71-4909-aec0-ab123a29b8d6\"}}];\n",
       "  root.Bokeh.embed.embed_items_notebook(docs_json, render_items);\n",
       "  }\n",
       "if (root.Bokeh !== undefined) {\n",
       "    embed_document(root);\n",
       "  } else {\n",
       "    var attempts = 0;\n",
       "    var timer = setInterval(function(root) {\n",
       "      if (root.Bokeh !== undefined) {\n",
       "        clearInterval(timer);\n",
       "        embed_document(root);\n",
       "      } else if (document.readyState == \"complete\") {\n",
       "        attempts++;\n",
       "        if (attempts > 100) {\n",
       "          clearInterval(timer);\n",
       "          console.log(\"Bokeh: ERROR: Unable to run BokehJS code because BokehJS library is missing\");\n",
       "        }\n",
       "      }\n",
       "    }, 10, root)\n",
       "  }\n",
       "})(window);</script>"
      ],
      "text/plain": [
       ":DynamicMap   [MSA]\n",
       "   :Scatter   [HPI]   (Population)"
      ]
     },
     "execution_count": 137,
     "metadata": {
      "application/vnd.holoviews_exec.v0+json": {
       "id": "10390"
      }
     },
     "output_type": "execute_result"
    }
   ],
   "source": [
    "# correlate population and HPI grouped by MSA\n",
    "population.hvplot.scatter(x=\"HPI\",y=\"Population\",groupby=\"MSA\", title=\"Correlation between HPI and Population\")"
   ]
  },
  {
   "cell_type": "code",
   "execution_count": 138,
   "id": "6c4ffc98-2408-48ec-ae68-ed2cb3422d10",
   "metadata": {},
   "outputs": [
    {
     "data": {
      "text/html": [
       "<div>\n",
       "<style scoped>\n",
       "    .dataframe tbody tr th:only-of-type {\n",
       "        vertical-align: middle;\n",
       "    }\n",
       "\n",
       "    .dataframe tbody tr th {\n",
       "        vertical-align: top;\n",
       "    }\n",
       "\n",
       "    .dataframe thead th {\n",
       "        text-align: right;\n",
       "    }\n",
       "</style>\n",
       "<table border=\"1\" class=\"dataframe\">\n",
       "  <thead>\n",
       "    <tr style=\"text-align: right;\">\n",
       "      <th></th>\n",
       "      <th>Date</th>\n",
       "      <th>MSA</th>\n",
       "      <th>Number Jobs</th>\n",
       "      <th>HPI</th>\n",
       "    </tr>\n",
       "  </thead>\n",
       "  <tbody>\n",
       "    <tr>\n",
       "      <th>0</th>\n",
       "      <td>2000-01-01</td>\n",
       "      <td>Baltimore-Columbia-Towson, MD</td>\n",
       "      <td>1543762</td>\n",
       "      <td>97.520000</td>\n",
       "    </tr>\n",
       "    <tr>\n",
       "      <th>1</th>\n",
       "      <td>2001-01-01</td>\n",
       "      <td>Baltimore-Columbia-Towson, MD</td>\n",
       "      <td>1547690</td>\n",
       "      <td>105.058333</td>\n",
       "    </tr>\n",
       "    <tr>\n",
       "      <th>2</th>\n",
       "      <td>2002-01-01</td>\n",
       "      <td>Baltimore-Columbia-Towson, MD</td>\n",
       "      <td>1558796</td>\n",
       "      <td>116.961667</td>\n",
       "    </tr>\n",
       "    <tr>\n",
       "      <th>3</th>\n",
       "      <td>2003-01-01</td>\n",
       "      <td>Baltimore-Columbia-Towson, MD</td>\n",
       "      <td>1566963</td>\n",
       "      <td>134.725833</td>\n",
       "    </tr>\n",
       "    <tr>\n",
       "      <th>4</th>\n",
       "      <td>2004-01-01</td>\n",
       "      <td>Baltimore-Columbia-Towson, MD</td>\n",
       "      <td>1593882</td>\n",
       "      <td>158.941667</td>\n",
       "    </tr>\n",
       "  </tbody>\n",
       "</table>\n",
       "</div>"
      ],
      "text/plain": [
       "        Date                            MSA  Number Jobs         HPI\n",
       "0 2000-01-01  Baltimore-Columbia-Towson, MD      1543762   97.520000\n",
       "1 2001-01-01  Baltimore-Columbia-Towson, MD      1547690  105.058333\n",
       "2 2002-01-01  Baltimore-Columbia-Towson, MD      1558796  116.961667\n",
       "3 2003-01-01  Baltimore-Columbia-Towson, MD      1566963  134.725833\n",
       "4 2004-01-01  Baltimore-Columbia-Towson, MD      1593882  158.941667"
      ]
     },
     "execution_count": 138,
     "metadata": {},
     "output_type": "execute_result"
    }
   ],
   "source": [
    "# splice data to only show employment vs HPI\n",
    "employment = data[[\"Date\",\"MSA\",\"Number Jobs\",\"HPI\"]]\n",
    "employment.head()"
   ]
  },
  {
   "cell_type": "code",
   "execution_count": 139,
   "id": "c92327d5-7792-4b65-86d6-e014590eca16",
   "metadata": {},
   "outputs": [
    {
     "data": {},
     "metadata": {},
     "output_type": "display_data"
    },
    {
     "data": {
      "application/vnd.holoviews_exec.v0+json": "",
      "text/html": [
       "<div id='10521'>\n",
       "\n",
       "\n",
       "\n",
       "\n",
       "\n",
       "  <div class=\"bk-root\" id=\"b25dc9e2-05ff-47cb-9661-8480bf4efcba\" data-root-id=\"10521\"></div>\n",
       "</div>\n",
       "<script type=\"application/javascript\">(function(root) {\n",
       "  function embed_document(root) {\n",
       "  var docs_json = {\"31346df6-d008-4b04-a578-ac3ad82013b2\":{\"roots\":{\"references\":[{\"attributes\":{\"bottom_units\":\"screen\",\"fill_alpha\":0.5,\"fill_color\":\"lightgrey\",\"left_units\":\"screen\",\"level\":\"overlay\",\"line_alpha\":1.0,\"line_color\":\"black\",\"line_dash\":[4,4],\"line_width\":2,\"render_mode\":\"css\",\"right_units\":\"screen\",\"top_units\":\"screen\"},\"id\":\"10548\",\"type\":\"BoxAnnotation\"},{\"attributes\":{\"below\":[{\"id\":\"10535\"}],\"center\":[{\"id\":\"10538\"},{\"id\":\"10542\"}],\"left\":[{\"id\":\"10539\"}],\"margin\":null,\"min_border_bottom\":10,\"min_border_left\":10,\"min_border_right\":10,\"min_border_top\":10,\"plot_height\":300,\"plot_width\":700,\"renderers\":[{\"id\":\"10562\"}],\"sizing_mode\":\"fixed\",\"title\":{\"id\":\"10527\"},\"toolbar\":{\"id\":\"10549\"},\"x_range\":{\"id\":\"10523\"},\"x_scale\":{\"id\":\"10531\"},\"y_range\":{\"id\":\"10524\"},\"y_scale\":{\"id\":\"10533\"}},\"id\":\"10526\",\"subtype\":\"Figure\",\"type\":\"Plot\"},{\"attributes\":{},\"id\":\"10543\",\"type\":\"SaveTool\"},{\"attributes\":{},\"id\":\"10578\",\"type\":\"UnionRenderers\"},{\"attributes\":{},\"id\":\"10540\",\"type\":\"BasicTicker\"},{\"attributes\":{},\"id\":\"10533\",\"type\":\"LinearScale\"},{\"attributes\":{},\"id\":\"10536\",\"type\":\"BasicTicker\"},{\"attributes\":{},\"id\":\"10567\",\"type\":\"BasicTickFormatter\"},{\"attributes\":{\"children\":[{\"id\":\"10582\"},{\"id\":\"10583\"},{\"id\":\"10585\"}],\"margin\":[0,0,0,0],\"name\":\"Column22586\"},\"id\":\"10581\",\"type\":\"Column\"},{\"attributes\":{\"axis_label\":\"HPI\",\"bounds\":\"auto\",\"formatter\":{\"id\":\"10565\"},\"major_label_orientation\":\"horizontal\",\"ticker\":{\"id\":\"10536\"}},\"id\":\"10535\",\"type\":\"LinearAxis\"},{\"attributes\":{\"axis\":{\"id\":\"10535\"},\"grid_line_color\":null,\"ticker\":null},\"id\":\"10538\",\"type\":\"Grid\"},{\"attributes\":{\"margin\":[5,5,5,5],\"name\":\"HSpacer22587\",\"sizing_mode\":\"stretch_width\"},\"id\":\"10522\",\"type\":\"Spacer\"},{\"attributes\":{\"callback\":null,\"renderers\":[{\"id\":\"10562\"}],\"tags\":[\"hv_created\"],\"tooltips\":[[\"HPI\",\"@{HPI}\"],[\"Number Jobs\",\"@{Number_Jobs}\"]]},\"id\":\"10525\",\"type\":\"HoverTool\"},{\"attributes\":{\"data\":{\"HPI\":{\"__ndarray__\":\"4XoUrkdhWEC8u7u7u0NaQCW/WPKLPV1AbaDTBjrXYEAjIiIiIt5jQN/d3d3ds2dAL5b8YsmhaUDAWPKLJZNpQJ/TBjptomdAz2kDnTbCZUAYS36x5PtkQI7C9ShcGWRAJb9Y8ostZEAs+cWSXyhlQLHkF0t+i2VAeHd3d3fDZUD4xZJfLE1mQJqZmZmZOWdALfnFkl8CaEAb6LSBTm9oQA==\",\"dtype\":\"float64\",\"shape\":[20]},\"Number Jobs\":[1543762,1547690,1558796,1566963,1593882,1623895,1658564,1689183,1686091,1649432,1645096,1677182,1707280,1734251,1755256,1788444,1813506,1833823,1865227,1889243],\"Number_Jobs\":[1543762,1547690,1558796,1566963,1593882,1623895,1658564,1689183,1686091,1649432,1645096,1677182,1707280,1734251,1755256,1788444,1813506,1833823,1865227,1889243]},\"selected\":{\"id\":\"10557\"},\"selection_policy\":{\"id\":\"10578\"}},\"id\":\"10556\",\"type\":\"ColumnDataSource\"},{\"attributes\":{\"axis\":{\"id\":\"10539\"},\"dimension\":1,\"grid_line_color\":null,\"ticker\":null},\"id\":\"10542\",\"type\":\"Grid\"},{\"attributes\":{\"end\":1923791.1,\"reset_end\":1923791.1,\"reset_start\":1509213.9,\"start\":1509213.9,\"tags\":[[[\"Number Jobs\",\"Number Jobs\",null]]]},\"id\":\"10524\",\"type\":\"Range1d\"},{\"attributes\":{\"active_drag\":\"auto\",\"active_inspect\":\"auto\",\"active_multi\":null,\"active_scroll\":\"auto\",\"active_tap\":\"auto\",\"tools\":[{\"id\":\"10525\"},{\"id\":\"10543\"},{\"id\":\"10544\"},{\"id\":\"10545\"},{\"id\":\"10546\"},{\"id\":\"10547\"}]},\"id\":\"10549\",\"type\":\"Toolbar\"},{\"attributes\":{\"text\":\"Correlation between HPI and Employment\",\"text_color\":{\"value\":\"black\"},\"text_font_size\":{\"value\":\"12pt\"}},\"id\":\"10527\",\"type\":\"Title\"},{\"attributes\":{\"margin\":[5,5,5,5],\"name\":\"VSpacer22584\",\"sizing_mode\":\"stretch_height\"},\"id\":\"10582\",\"type\":\"Spacer\"},{\"attributes\":{\"end\":209.6645119047619,\"reset_end\":209.6645119047619,\"reset_start\":92.91132142857143,\"start\":92.91132142857143,\"tags\":[[[\"HPI\",\"HPI\",null]]]},\"id\":\"10523\",\"type\":\"Range1d\"},{\"attributes\":{\"children\":[{\"id\":\"10584\"}],\"css_classes\":[\"widget-box\"],\"margin\":[5,5,5,5],\"name\":\"WidgetBox22579\"},\"id\":\"10583\",\"type\":\"Column\"},{\"attributes\":{},\"id\":\"10565\",\"type\":\"BasicTickFormatter\"},{\"attributes\":{\"overlay\":{\"id\":\"10548\"}},\"id\":\"10546\",\"type\":\"BoxZoomTool\"},{\"attributes\":{},\"id\":\"10557\",\"type\":\"Selection\"},{\"attributes\":{\"axis_label\":\"Number Jobs\",\"bounds\":\"auto\",\"formatter\":{\"id\":\"10567\"},\"major_label_orientation\":\"horizontal\",\"ticker\":{\"id\":\"10540\"}},\"id\":\"10539\",\"type\":\"LinearAxis\"},{\"attributes\":{\"fill_alpha\":{\"value\":0.1},\"fill_color\":{\"value\":\"#1f77b3\"},\"line_alpha\":{\"value\":0.1},\"line_color\":{\"value\":\"#1f77b3\"},\"size\":{\"units\":\"screen\",\"value\":5.477225575051661},\"x\":{\"field\":\"HPI\"},\"y\":{\"field\":\"Number Jobs\"}},\"id\":\"10560\",\"type\":\"Scatter\"},{\"attributes\":{},\"id\":\"10531\",\"type\":\"LinearScale\"},{\"attributes\":{},\"id\":\"10547\",\"type\":\"ResetTool\"},{\"attributes\":{\"source\":{\"id\":\"10556\"}},\"id\":\"10563\",\"type\":\"CDSView\"},{\"attributes\":{},\"id\":\"10545\",\"type\":\"WheelZoomTool\"},{\"attributes\":{\"margin\":[5,5,5,5],\"name\":\"VSpacer22585\",\"sizing_mode\":\"stretch_height\"},\"id\":\"10585\",\"type\":\"Spacer\"},{\"attributes\":{\"margin\":[20,20,20,20],\"min_width\":250,\"options\":[\"Baltimore-Columbia-Towson, MD\",\"Boston-Cambridge-Newton, MA-NH\",\"Charlotte-Concord-Gastonia, NC-SC\",\"Chicago-Naperville-Elgin, IL-IN-WI\",\"Dallas-Fort Worth-Arlington, TX\",\"Denver-Aurora-Lakewood, CO\",\"Detroit-Warren-Dearborn, MI\",\"Houston-The Woodlands-Sugar Land, TX\",\"Los Angeles-Long Beach-Anaheim, CA\",\"Minneapolis-St. Paul-Bloomington, MN-WI\",\"New York-Newark-Jersey City, NY-NJ-PA\",\"Orlando-Kissimmee-Sanford, FL\",\"Philadelphia-Camden-Wilmington, PA-NJ-DE-MD\",\"Portland-Vancouver-Hillsboro, OR-WA\",\"Riverside-San Bernardino-Ontario, CA\",\"St. Louis, MO-IL\",\"San Antonio-New Braunfels, TX\",\"Seattle-Tacoma-Bellevue, WA\",\"Tampa-St. Petersburg-Clearwater, FL\",\"Washington-Arlington-Alexandria, DC-VA-MD-WV\"],\"title\":\"MSA\",\"value\":\"Baltimore-Columbia-Towson, MD\",\"width\":250},\"id\":\"10584\",\"type\":\"Select\"},{\"attributes\":{\"fill_color\":{\"value\":\"#1f77b3\"},\"line_color\":{\"value\":\"#1f77b3\"},\"size\":{\"units\":\"screen\",\"value\":5.477225575051661},\"x\":{\"field\":\"HPI\"},\"y\":{\"field\":\"Number Jobs\"}},\"id\":\"10559\",\"type\":\"Scatter\"},{\"attributes\":{\"data_source\":{\"id\":\"10556\"},\"glyph\":{\"id\":\"10559\"},\"hover_glyph\":null,\"muted_glyph\":{\"id\":\"10561\"},\"nonselection_glyph\":{\"id\":\"10560\"},\"selection_glyph\":null,\"view\":{\"id\":\"10563\"}},\"id\":\"10562\",\"type\":\"GlyphRenderer\"},{\"attributes\":{\"fill_alpha\":{\"value\":0.2},\"fill_color\":{\"value\":\"#1f77b3\"},\"line_alpha\":{\"value\":0.2},\"line_color\":{\"value\":\"#1f77b3\"},\"size\":{\"units\":\"screen\",\"value\":5.477225575051661},\"x\":{\"field\":\"HPI\"},\"y\":{\"field\":\"Number Jobs\"}},\"id\":\"10561\",\"type\":\"Scatter\"},{\"attributes\":{\"margin\":[5,5,5,5],\"name\":\"HSpacer22588\",\"sizing_mode\":\"stretch_width\"},\"id\":\"10580\",\"type\":\"Spacer\"},{\"attributes\":{\"client_comm_id\":\"0d39496ef0b545a5971691e5617f7e34\",\"comm_id\":\"ae8ab48e6a414d45aef5b41022cc904f\",\"plot_id\":\"10521\"},\"id\":\"10610\",\"type\":\"panel.models.comm_manager.CommManager\"},{\"attributes\":{\"children\":[{\"id\":\"10522\"},{\"id\":\"10526\"},{\"id\":\"10580\"},{\"id\":\"10581\"}],\"margin\":[0,0,0,0],\"name\":\"Row22578\"},\"id\":\"10521\",\"type\":\"Row\"},{\"attributes\":{},\"id\":\"10544\",\"type\":\"PanTool\"}],\"root_ids\":[\"10521\",\"10610\"]},\"title\":\"Bokeh Application\",\"version\":\"2.0.2\"}};\n",
       "  var render_items = [{\"docid\":\"31346df6-d008-4b04-a578-ac3ad82013b2\",\"root_ids\":[\"10521\"],\"roots\":{\"10521\":\"b25dc9e2-05ff-47cb-9661-8480bf4efcba\"}}];\n",
       "  root.Bokeh.embed.embed_items_notebook(docs_json, render_items);\n",
       "  }\n",
       "if (root.Bokeh !== undefined) {\n",
       "    embed_document(root);\n",
       "  } else {\n",
       "    var attempts = 0;\n",
       "    var timer = setInterval(function(root) {\n",
       "      if (root.Bokeh !== undefined) {\n",
       "        clearInterval(timer);\n",
       "        embed_document(root);\n",
       "      } else if (document.readyState == \"complete\") {\n",
       "        attempts++;\n",
       "        if (attempts > 100) {\n",
       "          clearInterval(timer);\n",
       "          console.log(\"Bokeh: ERROR: Unable to run BokehJS code because BokehJS library is missing\");\n",
       "        }\n",
       "      }\n",
       "    }, 10, root)\n",
       "  }\n",
       "})(window);</script>"
      ],
      "text/plain": [
       ":DynamicMap   [MSA]\n",
       "   :Scatter   [HPI]   (Number Jobs)"
      ]
     },
     "execution_count": 139,
     "metadata": {
      "application/vnd.holoviews_exec.v0+json": {
       "id": "10521"
      }
     },
     "output_type": "execute_result"
    }
   ],
   "source": [
    "# correlate number of jobs and HPI grouped by MSA\n",
    "employment.hvplot.scatter(x=\"HPI\",y=\"Number Jobs\",groupby=\"MSA\", title=\"Correlation between HPI and Employment\")"
   ]
  },
  {
   "cell_type": "code",
   "execution_count": null,
   "id": "23a8c4e8-9781-4da0-b687-cc886e45d40a",
   "metadata": {},
   "outputs": [],
   "source": []
  }
 ],
 "metadata": {
  "kernelspec": {
   "display_name": "Python 3",
   "language": "python",
   "name": "python3"
  },
  "language_info": {
   "codemirror_mode": {
    "name": "ipython",
    "version": 3
   },
   "file_extension": ".py",
   "mimetype": "text/x-python",
   "name": "python",
   "nbconvert_exporter": "python",
   "pygments_lexer": "ipython3",
   "version": "3.8.2"
  }
 },
 "nbformat": 4,
 "nbformat_minor": 5
}
